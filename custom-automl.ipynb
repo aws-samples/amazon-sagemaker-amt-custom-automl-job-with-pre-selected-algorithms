{
 "cells": [
  {
   "cell_type": "markdown",
   "metadata": {},
   "source": [
    "## Imports & Setup\n",
    "This notebook is tested on SageMaker Notebook instance type: ml.t3.medium, Elastic Inference: none, Platform identifier: Amazon Linux 2, Jupyter Lab 3 and conda_python3 kernel."
   ]
  },
  {
   "cell_type": "code",
   "execution_count": 2,
   "metadata": {
    "scrolled": true,
    "tags": []
   },
   "outputs": [
    {
     "name": "stdout",
     "output_type": "stream",
     "text": [
      "Looking in indexes: https://pypi.org/simple, https://pip.repos.neuron.amazonaws.com\n",
      "Requirement already satisfied: seaborn==0.12.2 in /home/ec2-user/anaconda3/envs/python3/lib/python3.10/site-packages (from -r requirements.txt (line 1)) (0.12.2)\n",
      "Requirement already satisfied: pandas==2.0 in /home/ec2-user/anaconda3/envs/python3/lib/python3.10/site-packages (from -r requirements.txt (line 2)) (2.0.0)\n",
      "Requirement already satisfied: numpy==1.22 in /home/ec2-user/anaconda3/envs/python3/lib/python3.10/site-packages (from -r requirements.txt (line 3)) (1.22.0)\n",
      "Requirement already satisfied: awswrangler==3.4 in /home/ec2-user/anaconda3/envs/python3/lib/python3.10/site-packages (from -r requirements.txt (line 4)) (3.4.0)\n",
      "Requirement already satisfied: sagemaker==2.162 in /home/ec2-user/anaconda3/envs/python3/lib/python3.10/site-packages (from -r requirements.txt (line 5)) (2.162.0)\n",
      "Requirement already satisfied: boto3==1.28 in /home/ec2-user/anaconda3/envs/python3/lib/python3.10/site-packages (from -r requirements.txt (line 6)) (1.28.0)\n",
      "Requirement already satisfied: s3pathlib==2.1.1 in /home/ec2-user/anaconda3/envs/python3/lib/python3.10/site-packages (from -r requirements.txt (line 7)) (2.1.1)\n",
      "Requirement already satisfied: python-dotenv==1.0 in /home/ec2-user/anaconda3/envs/python3/lib/python3.10/site-packages (from -r requirements.txt (line 8)) (1.0.0)\n",
      "Requirement already satisfied: scikit-learn==1.3.0 in /home/ec2-user/anaconda3/envs/python3/lib/python3.10/site-packages (from -r requirements.txt (line 9)) (1.3.0)\n",
      "Requirement already satisfied: matplotlib!=3.6.1,>=3.1 in /home/ec2-user/anaconda3/envs/python3/lib/python3.10/site-packages (from seaborn==0.12.2->-r requirements.txt (line 1)) (3.6.2)\n",
      "Requirement already satisfied: python-dateutil>=2.8.2 in /home/ec2-user/anaconda3/envs/python3/lib/python3.10/site-packages (from pandas==2.0->-r requirements.txt (line 2)) (2.8.2)\n",
      "Requirement already satisfied: pytz>=2020.1 in /home/ec2-user/anaconda3/envs/python3/lib/python3.10/site-packages (from pandas==2.0->-r requirements.txt (line 2)) (2022.7)\n",
      "Requirement already satisfied: tzdata>=2022.1 in /home/ec2-user/anaconda3/envs/python3/lib/python3.10/site-packages (from pandas==2.0->-r requirements.txt (line 2)) (2023.3)\n",
      "Requirement already satisfied: botocore<2.0.0,>=1.23.32 in /home/ec2-user/anaconda3/envs/python3/lib/python3.10/site-packages (from awswrangler==3.4->-r requirements.txt (line 4)) (1.31.66)\n",
      "Requirement already satisfied: packaging<24.0,>=21.1 in /home/ec2-user/anaconda3/envs/python3/lib/python3.10/site-packages (from awswrangler==3.4->-r requirements.txt (line 4)) (21.3)\n",
      "Requirement already satisfied: pyarrow>=7.0.0 in /home/ec2-user/anaconda3/envs/python3/lib/python3.10/site-packages (from awswrangler==3.4->-r requirements.txt (line 4)) (12.0.0)\n",
      "Requirement already satisfied: typing-extensions<5.0.0,>=4.4.0 in /home/ec2-user/anaconda3/envs/python3/lib/python3.10/site-packages (from awswrangler==3.4->-r requirements.txt (line 4)) (4.4.0)\n",
      "Requirement already satisfied: protobuf<4.0,>=3.1 in /home/ec2-user/anaconda3/envs/python3/lib/python3.10/site-packages (from sagemaker==2.162->-r requirements.txt (line 5)) (3.20.3)\n",
      "Requirement already satisfied: platformdirs in /home/ec2-user/anaconda3/envs/python3/lib/python3.10/site-packages (from sagemaker==2.162->-r requirements.txt (line 5)) (2.6.2)\n",
      "Requirement already satisfied: importlib-metadata<5.0,>=1.4.0 in /home/ec2-user/anaconda3/envs/python3/lib/python3.10/site-packages (from sagemaker==2.162->-r requirements.txt (line 5)) (4.13.0)\n",
      "Requirement already satisfied: cloudpickle==2.2.1 in /home/ec2-user/anaconda3/envs/python3/lib/python3.10/site-packages (from sagemaker==2.162->-r requirements.txt (line 5)) (2.2.1)\n",
      "Requirement already satisfied: pathos in /home/ec2-user/anaconda3/envs/python3/lib/python3.10/site-packages (from sagemaker==2.162->-r requirements.txt (line 5)) (0.3.0)\n",
      "Requirement already satisfied: jsonschema in /home/ec2-user/anaconda3/envs/python3/lib/python3.10/site-packages (from sagemaker==2.162->-r requirements.txt (line 5)) (3.2.0)\n",
      "Requirement already satisfied: smdebug-rulesconfig==1.0.1 in /home/ec2-user/anaconda3/envs/python3/lib/python3.10/site-packages (from sagemaker==2.162->-r requirements.txt (line 5)) (1.0.1)\n",
      "Requirement already satisfied: attrs<24,>=23.1.0 in /home/ec2-user/anaconda3/envs/python3/lib/python3.10/site-packages (from sagemaker==2.162->-r requirements.txt (line 5)) (23.1.0)\n",
      "Requirement already satisfied: google-pasta in /home/ec2-user/anaconda3/envs/python3/lib/python3.10/site-packages (from sagemaker==2.162->-r requirements.txt (line 5)) (0.2.0)\n",
      "Requirement already satisfied: protobuf3-to-dict<1.0,>=0.1.5 in /home/ec2-user/anaconda3/envs/python3/lib/python3.10/site-packages (from sagemaker==2.162->-r requirements.txt (line 5)) (0.1.5)\n",
      "Requirement already satisfied: schema in /home/ec2-user/anaconda3/envs/python3/lib/python3.10/site-packages (from sagemaker==2.162->-r requirements.txt (line 5)) (0.7.5)\n",
      "Requirement already satisfied: PyYAML==6.0 in /home/ec2-user/anaconda3/envs/python3/lib/python3.10/site-packages (from sagemaker==2.162->-r requirements.txt (line 5)) (6.0)\n",
      "Requirement already satisfied: tblib==1.7.0 in /home/ec2-user/anaconda3/envs/python3/lib/python3.10/site-packages (from sagemaker==2.162->-r requirements.txt (line 5)) (1.7.0)\n",
      "Requirement already satisfied: jmespath<2.0.0,>=0.7.1 in /home/ec2-user/anaconda3/envs/python3/lib/python3.10/site-packages (from boto3==1.28->-r requirements.txt (line 6)) (1.0.1)\n",
      "Requirement already satisfied: s3transfer<0.7.0,>=0.6.0 in /home/ec2-user/anaconda3/envs/python3/lib/python3.10/site-packages (from boto3==1.28->-r requirements.txt (line 6)) (0.6.0)\n",
      "Requirement already satisfied: boto-session-manager<2.0.0,>=1.5.1 in /home/ec2-user/anaconda3/envs/python3/lib/python3.10/site-packages (from s3pathlib==2.1.1->-r requirements.txt (line 7)) (1.5.1)\n",
      "Requirement already satisfied: iterproxy in /home/ec2-user/anaconda3/envs/python3/lib/python3.10/site-packages (from s3pathlib==2.1.1->-r requirements.txt (line 7)) (0.2.1)\n",
      "Requirement already satisfied: func-args in /home/ec2-user/anaconda3/envs/python3/lib/python3.10/site-packages (from s3pathlib==2.1.1->-r requirements.txt (line 7)) (0.1.1)\n",
      "Requirement already satisfied: smart-open<7.0.0,>=5.1.0 in /home/ec2-user/anaconda3/envs/python3/lib/python3.10/site-packages (from s3pathlib==2.1.1->-r requirements.txt (line 7)) (6.3.0)\n",
      "Requirement already satisfied: pathlib-mate<2.0.0,>=1.0.1 in /home/ec2-user/anaconda3/envs/python3/lib/python3.10/site-packages (from s3pathlib==2.1.1->-r requirements.txt (line 7)) (1.2.1)\n",
      "Requirement already satisfied: scipy>=1.5.0 in /home/ec2-user/anaconda3/envs/python3/lib/python3.10/site-packages (from scikit-learn==1.3.0->-r requirements.txt (line 9)) (1.10.0)\n",
      "Requirement already satisfied: joblib>=1.1.1 in /home/ec2-user/anaconda3/envs/python3/lib/python3.10/site-packages (from scikit-learn==1.3.0->-r requirements.txt (line 9)) (1.2.0)\n",
      "Requirement already satisfied: threadpoolctl>=2.0.0 in /home/ec2-user/anaconda3/envs/python3/lib/python3.10/site-packages (from scikit-learn==1.3.0->-r requirements.txt (line 9)) (3.1.0)\n",
      "Requirement already satisfied: urllib3<2.1,>=1.25.4 in /home/ec2-user/anaconda3/envs/python3/lib/python3.10/site-packages (from botocore<2.0.0,>=1.23.32->awswrangler==3.4->-r requirements.txt (line 4)) (1.26.8)\n",
      "Requirement already satisfied: zipp>=0.5 in /home/ec2-user/anaconda3/envs/python3/lib/python3.10/site-packages (from importlib-metadata<5.0,>=1.4.0->sagemaker==2.162->-r requirements.txt (line 5)) (3.11.0)\n",
      "Requirement already satisfied: fonttools>=4.22.0 in /home/ec2-user/anaconda3/envs/python3/lib/python3.10/site-packages (from matplotlib!=3.6.1,>=3.1->seaborn==0.12.2->-r requirements.txt (line 1)) (4.38.0)\n",
      "Requirement already satisfied: contourpy>=1.0.1 in /home/ec2-user/anaconda3/envs/python3/lib/python3.10/site-packages (from matplotlib!=3.6.1,>=3.1->seaborn==0.12.2->-r requirements.txt (line 1)) (1.0.6)\n",
      "Requirement already satisfied: kiwisolver>=1.0.1 in /home/ec2-user/anaconda3/envs/python3/lib/python3.10/site-packages (from matplotlib!=3.6.1,>=3.1->seaborn==0.12.2->-r requirements.txt (line 1)) (1.4.4)\n",
      "Requirement already satisfied: cycler>=0.10 in /home/ec2-user/anaconda3/envs/python3/lib/python3.10/site-packages (from matplotlib!=3.6.1,>=3.1->seaborn==0.12.2->-r requirements.txt (line 1)) (0.11.0)\n",
      "Requirement already satisfied: pillow>=6.2.0 in /home/ec2-user/anaconda3/envs/python3/lib/python3.10/site-packages (from matplotlib!=3.6.1,>=3.1->seaborn==0.12.2->-r requirements.txt (line 1)) (9.4.0)\n",
      "Requirement already satisfied: pyparsing>=2.2.1 in /home/ec2-user/anaconda3/envs/python3/lib/python3.10/site-packages (from matplotlib!=3.6.1,>=3.1->seaborn==0.12.2->-r requirements.txt (line 1)) (3.0.9)\n",
      "Requirement already satisfied: atomicwrites in /home/ec2-user/anaconda3/envs/python3/lib/python3.10/site-packages (from pathlib-mate<2.0.0,>=1.0.1->s3pathlib==2.1.1->-r requirements.txt (line 7)) (1.4.1)\n",
      "Requirement already satisfied: six in /home/ec2-user/anaconda3/envs/python3/lib/python3.10/site-packages (from pathlib-mate<2.0.0,>=1.0.1->s3pathlib==2.1.1->-r requirements.txt (line 7)) (1.16.0)\n",
      "Requirement already satisfied: pyrsistent>=0.14.0 in /home/ec2-user/anaconda3/envs/python3/lib/python3.10/site-packages (from jsonschema->sagemaker==2.162->-r requirements.txt (line 5)) (0.19.3)\n",
      "Requirement already satisfied: setuptools in /home/ec2-user/anaconda3/envs/python3/lib/python3.10/site-packages (from jsonschema->sagemaker==2.162->-r requirements.txt (line 5)) (65.6.3)\n",
      "Requirement already satisfied: ppft>=1.7.6.6 in /home/ec2-user/anaconda3/envs/python3/lib/python3.10/site-packages (from pathos->sagemaker==2.162->-r requirements.txt (line 5)) (1.7.6.6)\n",
      "Requirement already satisfied: dill>=0.3.6 in /home/ec2-user/anaconda3/envs/python3/lib/python3.10/site-packages (from pathos->sagemaker==2.162->-r requirements.txt (line 5)) (0.3.6)\n",
      "Requirement already satisfied: multiprocess>=0.70.14 in /home/ec2-user/anaconda3/envs/python3/lib/python3.10/site-packages (from pathos->sagemaker==2.162->-r requirements.txt (line 5)) (0.70.14)\n",
      "Requirement already satisfied: pox>=0.3.2 in /home/ec2-user/anaconda3/envs/python3/lib/python3.10/site-packages (from pathos->sagemaker==2.162->-r requirements.txt (line 5)) (0.3.2)\n",
      "Requirement already satisfied: contextlib2>=0.5.5 in /home/ec2-user/anaconda3/envs/python3/lib/python3.10/site-packages (from schema->sagemaker==2.162->-r requirements.txt (line 5)) (21.6.0)\n"
     ]
    }
   ],
   "source": [
    "!pip install -r requirements.txt"
   ]
  },
  {
   "cell_type": "code",
   "execution_count": 3,
   "metadata": {
    "tags": []
   },
   "outputs": [],
   "source": [
    "import os\n",
    "import time\n",
    "import boto3\n",
    "import fileinput\n",
    "import numpy as np\n",
    "import pandas as pd\n",
    "import awswrangler as wr\n",
    "import seaborn as sns\n",
    "import matplotlib.pyplot as plt\n",
    "\n",
    "from dataclasses import dataclass\n",
    "from s3pathlib import S3Path\n",
    "\n",
    "from sklearn.model_selection import train_test_split\n",
    "\n",
    "import sagemaker\n",
    "from sagemaker.inputs import TrainingInput\n",
    "from sagemaker.sklearn.estimator import SKLearn\n",
    "from sagemaker.tuner import (\n",
    "    IntegerParameter,\n",
    "    ContinuousParameter,\n",
    "    CategoricalParameter,\n",
    "\n",
    "    TuningJobCompletionCriteriaConfig,\n",
    "    HyperparameterTuner,\n",
    "    )\n",
    "\n",
    "# Configure settings\n",
    "pd.set_option(\"display.max_rows\", 50)"
   ]
  },
  {
   "cell_type": "code",
   "execution_count": 4,
   "metadata": {
    "tags": []
   },
   "outputs": [],
   "source": [
    "session = sagemaker.session.Session()\n",
    "region = session.boto_region_name\n",
    "\n",
    "s3_client = boto3.client(\"s3\")\n",
    "sm_client = boto3.client(\"sagemaker\")\n",
    "sm_role = sagemaker.get_execution_role()\n",
    "\n",
    "BUCKET = session.default_bucket()\n",
    "PREFIX = \"01-automl\"\n",
    "\n",
    "s3_data = S3Path(BUCKET, PREFIX)"
   ]
  },
  {
   "cell_type": "markdown",
   "metadata": {},
   "source": [
    "## Upload Data"
   ]
  },
  {
   "cell_type": "code",
   "execution_count": 5,
   "metadata": {
    "tags": []
   },
   "outputs": [],
   "source": [
    "s3_client.download_file(\n",
    "    f\"sagemaker-example-files-prod-{region}\",\n",
    "    f\"datasets/tabular/california_housing/cal_housing.tgz\",\n",
    "    \"cal_housing.tgz\",\n",
    ")\n",
    "!tar -zxf cal_housing.tgz\n",
    "columns = [\n",
    "    \"longitude\",\n",
    "    \"latitude\",\n",
    "    \"housingMedianAge\",\n",
    "    \"totalRooms\",\n",
    "    \"totalBedrooms\",\n",
    "    \"population\",\n",
    "    \"households\",\n",
    "    \"medianIncome\",\n",
    "    \"medianHouseValue\",\n",
    "]\n",
    "df_california = pd.read_csv(\"CaliforniaHousing/cal_housing.data\", names=columns, header=None)"
   ]
  },
  {
   "cell_type": "code",
   "execution_count": 6,
   "metadata": {
    "tags": []
   },
   "outputs": [
    {
     "data": {
      "text/html": [
       "<div>\n",
       "<style scoped>\n",
       "    .dataframe tbody tr th:only-of-type {\n",
       "        vertical-align: middle;\n",
       "    }\n",
       "\n",
       "    .dataframe tbody tr th {\n",
       "        vertical-align: top;\n",
       "    }\n",
       "\n",
       "    .dataframe thead th {\n",
       "        text-align: right;\n",
       "    }\n",
       "</style>\n",
       "<table border=\"1\" class=\"dataframe\">\n",
       "  <thead>\n",
       "    <tr style=\"text-align: right;\">\n",
       "      <th></th>\n",
       "      <th>longitude</th>\n",
       "      <th>latitude</th>\n",
       "      <th>housingMedianAge</th>\n",
       "      <th>totalRooms</th>\n",
       "      <th>totalBedrooms</th>\n",
       "      <th>population</th>\n",
       "      <th>households</th>\n",
       "      <th>medianIncome</th>\n",
       "      <th>medianHouseValue</th>\n",
       "    </tr>\n",
       "  </thead>\n",
       "  <tbody>\n",
       "    <tr>\n",
       "      <th>0</th>\n",
       "      <td>-122.23</td>\n",
       "      <td>37.88</td>\n",
       "      <td>41.0</td>\n",
       "      <td>880.0</td>\n",
       "      <td>129.0</td>\n",
       "      <td>322.0</td>\n",
       "      <td>126.0</td>\n",
       "      <td>8.3252</td>\n",
       "      <td>452600.0</td>\n",
       "    </tr>\n",
       "    <tr>\n",
       "      <th>1</th>\n",
       "      <td>-122.22</td>\n",
       "      <td>37.86</td>\n",
       "      <td>21.0</td>\n",
       "      <td>7099.0</td>\n",
       "      <td>1106.0</td>\n",
       "      <td>2401.0</td>\n",
       "      <td>1138.0</td>\n",
       "      <td>8.3014</td>\n",
       "      <td>358500.0</td>\n",
       "    </tr>\n",
       "    <tr>\n",
       "      <th>2</th>\n",
       "      <td>-122.24</td>\n",
       "      <td>37.85</td>\n",
       "      <td>52.0</td>\n",
       "      <td>1467.0</td>\n",
       "      <td>190.0</td>\n",
       "      <td>496.0</td>\n",
       "      <td>177.0</td>\n",
       "      <td>7.2574</td>\n",
       "      <td>352100.0</td>\n",
       "    </tr>\n",
       "    <tr>\n",
       "      <th>3</th>\n",
       "      <td>-122.25</td>\n",
       "      <td>37.85</td>\n",
       "      <td>52.0</td>\n",
       "      <td>1274.0</td>\n",
       "      <td>235.0</td>\n",
       "      <td>558.0</td>\n",
       "      <td>219.0</td>\n",
       "      <td>5.6431</td>\n",
       "      <td>341300.0</td>\n",
       "    </tr>\n",
       "    <tr>\n",
       "      <th>4</th>\n",
       "      <td>-122.25</td>\n",
       "      <td>37.85</td>\n",
       "      <td>52.0</td>\n",
       "      <td>1627.0</td>\n",
       "      <td>280.0</td>\n",
       "      <td>565.0</td>\n",
       "      <td>259.0</td>\n",
       "      <td>3.8462</td>\n",
       "      <td>342200.0</td>\n",
       "    </tr>\n",
       "  </tbody>\n",
       "</table>\n",
       "</div>"
      ],
      "text/plain": [
       "   longitude  latitude  housingMedianAge  totalRooms  totalBedrooms   \n",
       "0    -122.23     37.88              41.0       880.0          129.0  \\\n",
       "1    -122.22     37.86              21.0      7099.0         1106.0   \n",
       "2    -122.24     37.85              52.0      1467.0          190.0   \n",
       "3    -122.25     37.85              52.0      1274.0          235.0   \n",
       "4    -122.25     37.85              52.0      1627.0          280.0   \n",
       "\n",
       "   population  households  medianIncome  medianHouseValue  \n",
       "0       322.0       126.0        8.3252          452600.0  \n",
       "1      2401.0      1138.0        8.3014          358500.0  \n",
       "2       496.0       177.0        7.2574          352100.0  \n",
       "3       558.0       219.0        5.6431          341300.0  \n",
       "4       565.0       259.0        3.8462          342200.0  "
      ]
     },
     "execution_count": 6,
     "metadata": {},
     "output_type": "execute_result"
    }
   ],
   "source": [
    "df_california.head()"
   ]
  },
  {
   "cell_type": "code",
   "execution_count": 7,
   "metadata": {
    "tags": []
   },
   "outputs": [],
   "source": [
    "df_train, df_test = train_test_split(df_california, test_size=0.2, random_state=42)\n",
    "\n",
    "if not os.path.exists(\"data\"):\n",
    "    os.makedirs(\"data\")\n",
    "df_train.to_parquet(\"data/df_train.parquet\", index=False)\n",
    "df_test.to_parquet(\"data/df_test.parquet\", index=False)\n",
    "\n",
    "s3_data_train = s3_data.joinpath(\"train.parquet\")\n",
    "s3_data_test = s3_data.joinpath(\"test.parquet\")\n",
    "\n",
    "wr.s3.upload(local_file=\"data/df_train.parquet\", path=s3_data_train.uri)\n",
    "wr.s3.upload(local_file=\"data/df_test.parquet\", path=s3_data_test.uri)"
   ]
  },
  {
   "cell_type": "markdown",
   "metadata": {},
   "source": [
    "## Create Training Scripts"
   ]
  },
  {
   "cell_type": "code",
   "execution_count": 8,
   "metadata": {
    "tags": []
   },
   "outputs": [],
   "source": [
    "# Create base script \n",
    "_script = \"\"\"\n",
    "import argparse\n",
    "import joblib\n",
    "import os\n",
    "\n",
    "import numpy as np\n",
    "import pandas as pd\n",
    "\n",
    "from sklearn.metrics import mean_squared_error\n",
    "\n",
    "from sklearn.pipeline import Pipeline, FeatureUnion\n",
    "from sklearn.preprocessing import StandardScaler\n",
    "from sklearn.decomposition import PCA\n",
    "from sklearn.impute import SimpleImputer\n",
    "from sklearn.cluster import KMeans\n",
    "\n",
    "from sklearn.linear_model import ElasticNet\n",
    "from sklearn.ensemble import RandomForestRegressor\n",
    "from sklearn.ensemble import GradientBoostingRegressor\n",
    "\n",
    "###########################\n",
    "### Inference functions ###\n",
    "###########################\n",
    "\n",
    "def model_fn(model_dir):\n",
    "    clf = joblib.load(os.path.join(model_dir, \"model.joblib\"))\n",
    "    return clf\n",
    "\n",
    "if __name__ == \"__main__\":\n",
    "\n",
    "    print(\"Extracting arguments\")\n",
    "    parser = argparse.ArgumentParser()\n",
    "\n",
    "    # Hyperparameters\n",
    "    ##### WILL BE INSERTED DYNAMICALLY #####\n",
    "    {}\n",
    "\n",
    "    ############################\n",
    "\n",
    "    # Data, model, and output directories\n",
    "    parser.add_argument(\"--model-dir\", type=str, default=os.environ.get(\"SM_MODEL_DIR\"))\n",
    "    parser.add_argument(\"--train\", type=str, default=os.environ.get(\"SM_CHANNEL_TRAIN\"))\n",
    "    parser.add_argument(\"--test\", type=str, default=os.environ.get(\"SM_CHANNEL_TEST\"))\n",
    "    parser.add_argument(\"--train-file\", type=str, default=\"train.parquet\")\n",
    "    parser.add_argument(\"--test-file\", type=str, default=\"test.parquet\")\n",
    "    parser.add_argument(\"--features\", type=str)\n",
    "    parser.add_argument(\"--target\", type=str)\n",
    "\n",
    "    args, _ = parser.parse_known_args()\n",
    "\n",
    "    # Load and prepare data\n",
    "    train_df = pd.read_parquet(os.path.join(args.train, args.train_file))\n",
    "    test_df = pd.read_parquet(os.path.join(args.test, args.test_file))\n",
    "\n",
    "    X_train = train_df[args.features.split()]\n",
    "    X_test = test_df[args.features.split()]\n",
    "    y_train = train_df[args.target]\n",
    "    y_test = test_df[args.target]\n",
    "\n",
    "    # Train model\n",
    "    ##### WILL BE INSERTED DYNAMICALLY #####\n",
    "    {}\n",
    "    {}\n",
    "    \n",
    "    \n",
    "    pipeline = Pipeline([('preprocessor', preprocessor), ('model', model)])\n",
    "    pipeline.fit(X_train, y_train)\n",
    "\n",
    "    # Validate model and print metrics\n",
    "    rmse = mean_squared_error(y_test, pipeline.predict(X_test), squared=False)\n",
    "    print(\"RMSE: \" + str(rmse))\n",
    "\n",
    "    # Persist model\n",
    "    path = os.path.join(args.model_dir, \"model.joblib\")\n",
    "    joblib.dump(pipeline, path)\n",
    "\"\"\"\n",
    "\n",
    "# write _script to file just to have it in hand\n",
    "with open(\"script_draft.py\", \"w\") as f:\n",
    "    print(_script, file=f)"
   ]
  },
  {
   "cell_type": "code",
   "execution_count": 9,
   "metadata": {
    "tags": []
   },
   "outputs": [],
   "source": [
    "# We are reusing a generic training script into which we will dynamically insert each algorithm hyperparameter arguments and the model call itself\n",
    "\n",
    "preprocessors = {\n",
    "    \"mean-imp-scale\": \"preprocessor = Pipeline([('imputer', SimpleImputer(strategy='mean')), ('scaler', StandardScaler())])\\n\",\n",
    "    \"mean-imp-scale-knn\": \"preprocessor = FeatureUnion([('base-features', Pipeline([('imputer', SimpleImputer(strategy='mean')), ('scaler', StandardScaler())])), ('knn', Pipeline([('imputer', SimpleImputer(strategy='mean')), ('scaler', StandardScaler()), ('knn', KMeans(n_clusters=10))]))])\\n\",\n",
    "    \"mean-imp-scale-pca\": \"preprocessor = FeatureUnion([('base-features', Pipeline([('imputer', SimpleImputer(strategy='mean')), ('scaler', StandardScaler())])), ('pca', Pipeline([('imputer', SimpleImputer(strategy='mean')), ('scaler', StandardScaler()), ('pca', PCA(n_components=0.9))]))])\\n\"   \n",
    "}\n",
    "\n",
    "models = {\n",
    "    \"rf\": {\n",
    "        \"script_output\": None,\n",
    "        \"insertions\": {\n",
    "            # Arguments\n",
    "            \"arguments\" : \n",
    "            \"parser.add_argument('--n_estimators', type=int, default=100)\\n\"+\n",
    "            \"    parser.add_argument('--max_depth', type=int, default=None)\\n\"+            \n",
    "            \"    parser.add_argument('--min_samples_leaf', type=int, default=1)\\n\"+\n",
    "            \"    parser.add_argument('--min_samples_split', type=int, default=2)\\n\"+            \n",
    "            \"    parser.add_argument('--max_features', type=str, default='auto')\\n\",\n",
    "            # Model call\n",
    "            \"preprocessor\": None,\n",
    "            \"model_call\" : \"model = RandomForestRegressor(n_estimators=args.n_estimators,max_depth=args.max_depth,min_samples_leaf=args.min_samples_leaf,min_samples_split=args.min_samples_split,max_features=args.max_features)\\n\"\n",
    "        },\n",
    "        \"hyperparameters\": {\n",
    "            \"n_estimators\": IntegerParameter(100, 2000, \"Linear\"),\n",
    "            \"max_depth\": IntegerParameter(1, 100, \"Logarithmic\"),\n",
    "            \"min_samples_leaf\": IntegerParameter(1, 6, \"Linear\"),\n",
    "            \"min_samples_split\": IntegerParameter(2, 20, \"Linear\"),\n",
    "            \"max_features\": CategoricalParameter([\"auto\", \"sqrt\", \"log2\"]),\n",
    "        },\n",
    "        \"include_cls_metadata\": False,\n",
    "    },\n",
    "    \"gb\": {\n",
    "        \"script_output\": None,\n",
    "        \"insertions\": {\n",
    "            # Arguments\n",
    "            \"arguments\" : \n",
    "            \"parser.add_argument('--n_estimators', type=int, default=100)\\n\"+\n",
    "            \"    parser.add_argument('--learning_rate', type=float, default=0.1)\\n\"+\n",
    "            \"    parser.add_argument('--subsample', type=float, default=1.0)\\n\"+\n",
    "            \"    parser.add_argument('--min_samples_split', type=int, default=2)\\n\"+\n",
    "            \"    parser.add_argument('--max_features', type=str, default='auto')\\n\"+\n",
    "            \"    parser.add_argument('--max_depth', type=int, default=3)\\n\",\n",
    "            # Model call\n",
    "            \"preprocessor\": None,\n",
    "            \"model_call\" : \"model = GradientBoostingRegressor(n_estimators=args.n_estimators,learning_rate=args.learning_rate,subsample=args.subsample,min_samples_split=args.min_samples_split,max_features=args.max_features,max_depth=args.max_depth)\\n\"\n",
    "        },\n",
    "        \"hyperparameters\": {\n",
    "            \"n_estimators\": IntegerParameter(100, 2000, \"Linear\"),\n",
    "            \"learning_rate\": ContinuousParameter(0.01, 0.5, \"Logarithmic\"),\n",
    "            \"subsample\": ContinuousParameter(0.6, 1, \"Linear\"),\n",
    "            \"min_samples_split\": IntegerParameter(2, 20, \"Linear\"),            \n",
    "            \"max_features\": CategoricalParameter([\"auto\", \"sqrt\", \"log2\"]),\n",
    "            \"max_depth\": IntegerParameter(1, 100, \"Logarithmic\"),\n",
    "        },\n",
    "        \"include_cls_metadata\": False,\n",
    "    },\n",
    "    \"en\": {\n",
    "        \"script_output\": None,\n",
    "        \"insertions\": {\n",
    "            # Arguments\n",
    "            \"arguments\" : \n",
    "            \"parser.add_argument('--alpha', type=float, default=0.1)\\n\"+\n",
    "            \"    parser.add_argument('--l1_ratio', type=float, default=0.5)\\n\",\n",
    "            # Model call\n",
    "            \"preprocessor\": None,\n",
    "            \"model_call\" : \"model = ElasticNet(alpha=args.alpha,l1_ratio=args.l1_ratio)\\n\"\n",
    "        },\n",
    "        \"hyperparameters\": {\n",
    "            \"alpha\": ContinuousParameter(0.0001, 1, \"Logarithmic\"),\n",
    "            \"l1_ratio\": ContinuousParameter(0, 1),\n",
    "        },\n",
    "        \"include_cls_metadata\": False,\n",
    "    },\n",
    " \n",
    "}\n",
    "\n",
    "pipelines = {}\n",
    "for model_name, model_spec in models.items():\n",
    "    pipelines[model_name] = {}\n",
    "    for preprocessor_name, preprocessor_spec in preprocessors.items():\n",
    "        pipeline_name = f\"{model_name}-{preprocessor_name}\"\n",
    "        pipelines[model_name][pipeline_name] = {}\n",
    "        pipelines[model_name][pipeline_name][\"insertions\"] = {}\n",
    "        pipelines[model_name][pipeline_name][\"insertions\"][\"preprocessor\"] = preprocessor_spec\n",
    "        pipelines[model_name][pipeline_name][\"hyperparameters\"] = model_spec[\"hyperparameters\"]\n",
    "        pipelines[model_name][pipeline_name][\"include_cls_metadata\"] = model_spec[\"include_cls_metadata\"]        \n",
    "        pipelines[model_name][pipeline_name][\"insertions\"][\"arguments\"] = model_spec[\"insertions\"][\"arguments\"]\n",
    "        pipelines[model_name][pipeline_name][\"insertions\"][\"model_call\"] = model_spec[\"insertions\"][\"model_call\"]\n",
    "        pipelines[model_name][pipeline_name][\"script_output\"] = f\"scripts/{model_name}/script-{pipeline_name}.py\""
   ]
  },
  {
   "cell_type": "code",
   "execution_count": 10,
   "metadata": {
    "tags": []
   },
   "outputs": [],
   "source": [
    "# Create individual pipeline script files dynamically by using dictionary created previously\n",
    "\n",
    "for pipeline_family in pipelines.keys():\n",
    "    if not os.path.exists(f\"scripts/{pipeline_family}\"):\n",
    "        os.makedirs(f\"scripts/{pipeline_family}\")\n",
    "        \n",
    "for pipeline_family, pipelines_dict in pipelines.items():\n",
    "    for pipeline, pipeline_spec in pipelines_dict.items():\n",
    "        with open(pipeline_spec[\"script_output\"], \"w\") as new_file:\n",
    "            print(_script.format(pipeline_spec[\"insertions\"][\"arguments\"], pipeline_spec[\"insertions\"][\"preprocessor\"], pipeline_spec[\"insertions\"][\"model_call\"]), file=new_file)"
   ]
  },
  {
   "cell_type": "code",
   "execution_count": 11,
   "metadata": {
    "tags": []
   },
   "outputs": [],
   "source": [
    "# Create a base version of the class with default parameters for all estimators\n",
    "\n",
    "class SKLearnBase(SKLearn):\n",
    "    def __init__(\n",
    "        self, \n",
    "        entry_point=\".\", # intentionally left blank, will be overwritten in the next function\n",
    "        framework_version=\"1.2-1\",\n",
    "        role=sm_role,\n",
    "        instance_count=1,\n",
    "        instance_type=\"ml.m5.large\", # deliberately kept the instance small to reduce costs\n",
    "        hyperparameters={\n",
    "            \"features\": \"medianIncome housingMedianAge totalRooms totalBedrooms population households latitude longitude\",\n",
    "            \"target\": \"medianHouseValue\",\n",
    "        },  \n",
    "        **kwargs,\n",
    "        ):\n",
    "        super(SKLearnBase, self).__init__(\n",
    "            entry_point=entry_point,\n",
    "            framework_version=framework_version,\n",
    "            role=role,\n",
    "            instance_count=instance_count,\n",
    "            instance_type=instance_type,\n",
    "            hyperparameters=hyperparameters,\n",
    "            **kwargs\n",
    "        )"
   ]
  },
  {
   "cell_type": "code",
   "execution_count": 12,
   "metadata": {
    "tags": []
   },
   "outputs": [],
   "source": [
    "estimators = {}\n",
    "for pipeline_family in pipelines.keys():\n",
    "    estimators[pipeline_family] = {}\n",
    "    scripts = os.listdir(f\"scripts/{pipeline_family}\")\n",
    "    for script in scripts:\n",
    "        if script.endswith(\".py\"):\n",
    "            estimator_name = script.split(\".\")[0].replace(\"_\", \"-\").replace(\"script\", \"estimator\")\n",
    "            estimators[pipeline_family][estimator_name] = SKLearnBase(\n",
    "                entry_point=f\"scripts/{pipeline_family}/{script}\",\n",
    "                base_job_name=estimator_name,\n",
    "            )"
   ]
  },
  {
   "cell_type": "code",
   "execution_count": 13,
   "metadata": {
    "tags": []
   },
   "outputs": [],
   "source": [
    "# Create a dataclass for out HyperparameterTunerArgs object to optimize passing in arguments\n",
    "# This is especially handy when the number of estimators and preprocessors is large\n",
    "\n",
    "@dataclass\n",
    "class HyperparameterTunerArgs:\n",
    "    base_job_names: list[str]\n",
    "    estimators: list[object]\n",
    "    inputs: dict[str]\n",
    "    objective_metric_name: str\n",
    "    hyperparameter_ranges: list[dict]\n",
    "    metric_definition: dict[str]\n",
    "    include_cls_metadata: list[bool]\n",
    "\n",
    "    def get_estimator_dict(self) -> dict:\n",
    "        return {k:v for (k, v) in zip(self.base_job_names, self.estimators)}\n",
    "\n",
    "    def get_inputs_dict(self) -> dict:\n",
    "        return {k:v for (k, v) in zip(self.base_job_names, [self.inputs]*len(self.base_job_names))}\n",
    "\n",
    "    def get_objective_metric_name_dict(self) -> dict:\n",
    "        return {k:v for (k, v) in zip(self.base_job_names, [self.objective_metric_name]*len(self.base_job_names))}\n",
    "\n",
    "    def get_hyperparameter_ranges_dict(self) -> dict:\n",
    "        return {k:v for (k, v) in zip(self.base_job_names, self.hyperparameter_ranges)}\n",
    "\n",
    "    def get_metric_definition_dict(self) -> dict:\n",
    "        return {k:[v] for (k, v) in zip(self.base_job_names, [self.metric_definition]*len(self.base_job_names))}\n",
    "\n",
    "    def get_include_cls_metadata_dict(self) -> dict:\n",
    "        return {k:v for (k, v) in zip(self.base_job_names, self.include_cls_metadata)}\n",
    "\n",
    "# Create the HyperparameterTunerArgs object\n",
    "\n",
    "hp_args = {}\n",
    "for estimator_family, estimators in estimators.items():\n",
    "    hp_args[estimator_family] = HyperparameterTunerArgs(\n",
    "        base_job_names=list(estimators.keys()),\n",
    "        estimators=list(estimators.values()),\n",
    "        inputs={\n",
    "            \"train\": TrainingInput(s3_data=s3_data_train.uri, input_mode=\"File\"), \n",
    "            \"test\": TrainingInput(s3_data=s3_data_test.uri, input_mode=\"File\")\n",
    "        },\n",
    "        objective_metric_name=\"RMSE\",\n",
    "        hyperparameter_ranges=[pipeline.get(\"hyperparameters\") for pipeline in pipelines[estimator_family].values()],\n",
    "        metric_definition={\"Name\": \"RMSE\", \"Regex\": \"RMSE: ([0-9.]+).*$\"},\n",
    "        include_cls_metadata=[pipeline.get(\"include_cls_metadata\") for pipeline in pipelines[estimator_family].values()],\n",
    "    )"
   ]
  },
  {
   "cell_type": "code",
   "execution_count": 14,
   "metadata": {
    "tags": []
   },
   "outputs": [],
   "source": [
    "# Create our AutoML Tuner for each estimator family\n",
    "\n",
    "STRATEGY = \"Bayesian\"\n",
    "OBJECTIVE_TYPE = \"Minimize\"\n",
    "MAX_JOBS = 100\n",
    "MAX_PARALLEL_JOBS = 10\n",
    "MAX_RUNTIME_IN_SECONDS = 3600\n",
    "EARLY_STOPPING_TYPE = \"Off\"\n",
    "# RANDOM_SEED = 42 # uncomment if you require reproducibility across runs\n",
    "TUNING_JOB_COMPLETION_CRITERIA_CONFIG = TuningJobCompletionCriteriaConfig(\n",
    "    max_number_of_training_jobs_not_improving=20,\n",
    "    )\n",
    "\n",
    "tuners = {}\n",
    "for estimator_family, hp in hp_args.items():\n",
    "    tuners[estimator_family] = HyperparameterTuner.create(\n",
    "        estimator_dict=hp.get_estimator_dict(),\n",
    "        objective_metric_name_dict=hp.get_objective_metric_name_dict(),\n",
    "        hyperparameter_ranges_dict=hp.get_hyperparameter_ranges_dict(),\n",
    "        metric_definitions_dict=hp.get_metric_definition_dict(),\n",
    "        strategy=STRATEGY,\n",
    "        completion_criteria_config=TUNING_JOB_COMPLETION_CRITERIA_CONFIG,\n",
    "        objective_type=OBJECTIVE_TYPE,\n",
    "        max_jobs=MAX_JOBS,\n",
    "        max_parallel_jobs=MAX_PARALLEL_JOBS,\n",
    "        max_runtime_in_seconds=MAX_RUNTIME_IN_SECONDS,\n",
    "        base_tuning_job_name=f\"custom-automl-{estimator_family}\",\n",
    "        early_stopping_type=EARLY_STOPPING_TYPE, # early stopping of training jobs is not currently supported when multiple training job definitions are used\n",
    "        # random_seed=RANDOM_SEED,\n",
    "    )"
   ]
  },
  {
   "cell_type": "code",
   "execution_count": 15,
   "metadata": {
    "tags": []
   },
   "outputs": [
    {
     "name": "stdout",
     "output_type": "stream",
     "text": [
      "Using provided s3_resource\n",
      "Using provided s3_resource\n"
     ]
    },
    {
     "name": "stderr",
     "output_type": "stream",
     "text": [
      "No finished training job found associated with this estimator. Please make sure this estimator is only used for building workflow config\n"
     ]
    },
    {
     "name": "stdout",
     "output_type": "stream",
     "text": [
      "Using provided s3_resource\n",
      "Using provided s3_resource\n",
      "Using provided s3_resource\n"
     ]
    },
    {
     "name": "stderr",
     "output_type": "stream",
     "text": [
      "No finished training job found associated with this estimator. Please make sure this estimator is only used for building workflow config\n"
     ]
    },
    {
     "name": "stdout",
     "output_type": "stream",
     "text": [
      "Using provided s3_resource\n",
      "Using provided s3_resource\n",
      "Using provided s3_resource\n"
     ]
    },
    {
     "name": "stderr",
     "output_type": "stream",
     "text": [
      "No finished training job found associated with this estimator. Please make sure this estimator is only used for building workflow config\n"
     ]
    },
    {
     "name": "stdout",
     "output_type": "stream",
     "text": [
      "Using provided s3_resource\n"
     ]
    }
   ],
   "source": [
    "# We can only submit and HPO job with a maximum of 10 jobs definitions attached to it. Therefore, we will submit a separate HPO per each model definition. Afterwards we will collect and aggregate the results from individual HPO jobs for analysis\n",
    "\n",
    "for tuner, hpo in zip(tuners.values(), hp_args.values()):\n",
    "    tuner.fit(\n",
    "        inputs=hpo.get_inputs_dict(),\n",
    "        include_cls_metadata=hpo.get_include_cls_metadata_dict(),\n",
    "        wait=False,\n",
    "        )"
   ]
  },
  {
   "cell_type": "markdown",
   "metadata": {},
   "source": [
    "## Analysing Results"
   ]
  },
  {
   "cell_type": "code",
   "execution_count": 16,
   "metadata": {
    "tags": []
   },
   "outputs": [],
   "source": [
    "def get_tuning_job_names(max_results):\n",
    "    response = sm_client.list_hyper_parameter_tuning_jobs(\n",
    "        MaxResults=max_results,\n",
    "        SortBy=\"CreationTime\",\n",
    "        SortOrder=\"Descending\",\n",
    "        NameContains=\"custom-automl\"\n",
    "    )\n",
    "    return [job.get(\"HyperParameterTuningJobName\") for job in response[\"HyperParameterTuningJobSummaries\"]]\n",
    "\n",
    "def get_tuning_job_status(job_name):\n",
    "    job_status = sm_client.describe_hyper_parameter_tuning_job(\n",
    "        HyperParameterTuningJobName=job_name\n",
    "    )\n",
    "    return job_status['HyperParameterTuningJobStatus']\n",
    "\n",
    "# Collect the results from the AutoML Tuner into a data frame\n",
    "def collect_results():\n",
    "    results = []\n",
    "    for job in tuners.values():\n",
    "        results.append(job.analytics().dataframe())\n",
    "    return pd.DataFrame(pd.concat(results))\n",
    "\n",
    "job_names = get_tuning_job_names(len(tuners))\n",
    "job_statuses = [get_tuning_job_status(job_name) for job_name in job_names]\n",
    "while all(status == \"Completed\" for status in job_statuses) is False:\n",
    "    print(\"Waiting for all jobs to complete...\")\n",
    "    time.sleep(30)\n",
    "    job_statuses = [get_tuning_job_status(job_name) for job_name in get_tuning_job_names(len(tuners))]\n",
    "\n",
    "df_tuner_results = collect_results()\n",
    "df_tuner_results[\"TrainingJobFamily\"] = df_tuner_results[\"TrainingJobDefinitionName\"].str.split(\"-\", expand=True)[1]\n",
    "\n",
    "cols_all = df_tuner_results.columns.tolist()\n",
    "cols_prio = [\"TrainingJobName\", \"TrainingJobStatus\", \"FinalObjectiveValue\", \"TrainingStartTime\", \"TrainingEndTime\", \"TrainingElapsedTimeSeconds\", \"TrainingJobFamily\", \"TrainingJobDefinitionName\"]\n",
    "cols_other = list(set(cols_all).difference(set(cols_prio)))\n",
    "\n",
    "# Reorder columns in the final df for better readibility\n",
    "df_tuner_results = df_tuner_results.sort_values(by=\"TrainingStartTime\", ascending=True)[cols_prio + cols_other]\n",
    "df_tuner_results.reset_index(drop=True, inplace=True)"
   ]
  },
  {
   "cell_type": "code",
   "execution_count": 17,
   "metadata": {
    "tags": []
   },
   "outputs": [
    {
     "data": {
      "text/html": [
       "<div>\n",
       "<style scoped>\n",
       "    .dataframe tbody tr th:only-of-type {\n",
       "        vertical-align: middle;\n",
       "    }\n",
       "\n",
       "    .dataframe tbody tr th {\n",
       "        vertical-align: top;\n",
       "    }\n",
       "\n",
       "    .dataframe thead th {\n",
       "        text-align: right;\n",
       "    }\n",
       "</style>\n",
       "<table border=\"1\" class=\"dataframe\">\n",
       "  <thead>\n",
       "    <tr style=\"text-align: right;\">\n",
       "      <th></th>\n",
       "      <th>TrainingJobName</th>\n",
       "      <th>TrainingJobStatus</th>\n",
       "      <th>FinalObjectiveValue</th>\n",
       "      <th>TrainingStartTime</th>\n",
       "      <th>TrainingEndTime</th>\n",
       "      <th>TrainingElapsedTimeSeconds</th>\n",
       "      <th>TrainingJobFamily</th>\n",
       "      <th>TrainingJobDefinitionName</th>\n",
       "      <th>learning_rate</th>\n",
       "      <th>min_samples_leaf</th>\n",
       "      <th>l1_ratio</th>\n",
       "      <th>min_samples_split</th>\n",
       "      <th>max_features</th>\n",
       "      <th>max_depth</th>\n",
       "      <th>alpha</th>\n",
       "      <th>n_estimators</th>\n",
       "      <th>subsample</th>\n",
       "    </tr>\n",
       "  </thead>\n",
       "  <tbody>\n",
       "    <tr>\n",
       "      <th>0</th>\n",
       "      <td>custom-automl-rf-231110-1018-001-bcabeebd</td>\n",
       "      <td>Completed</td>\n",
       "      <td>60372.093750</td>\n",
       "      <td>2023-11-10 10:19:28+00:00</td>\n",
       "      <td>2023-11-10 10:21:20+00:00</td>\n",
       "      <td>112.0</td>\n",
       "      <td>rf</td>\n",
       "      <td>estimator-rf-mean-imp-scale</td>\n",
       "      <td>NaN</td>\n",
       "      <td>6.0</td>\n",
       "      <td>NaN</td>\n",
       "      <td>2.0</td>\n",
       "      <td>\"log2\"</td>\n",
       "      <td>10.0</td>\n",
       "      <td>NaN</td>\n",
       "      <td>671.0</td>\n",
       "      <td>NaN</td>\n",
       "    </tr>\n",
       "    <tr>\n",
       "      <th>1</th>\n",
       "      <td>custom-automl-rf-231110-1018-002-f2a318e8</td>\n",
       "      <td>Completed</td>\n",
       "      <td>60391.160156</td>\n",
       "      <td>2023-11-10 10:19:31+00:00</td>\n",
       "      <td>2023-11-10 10:21:33+00:00</td>\n",
       "      <td>122.0</td>\n",
       "      <td>rf</td>\n",
       "      <td>estimator-rf-mean-imp-scale-pca</td>\n",
       "      <td>NaN</td>\n",
       "      <td>6.0</td>\n",
       "      <td>NaN</td>\n",
       "      <td>2.0</td>\n",
       "      <td>\"log2\"</td>\n",
       "      <td>10.0</td>\n",
       "      <td>NaN</td>\n",
       "      <td>671.0</td>\n",
       "      <td>NaN</td>\n",
       "    </tr>\n",
       "    <tr>\n",
       "      <th>2</th>\n",
       "      <td>custom-automl-rf-231110-1018-003-0c788a56</td>\n",
       "      <td>Completed</td>\n",
       "      <td>60160.105469</td>\n",
       "      <td>2023-11-10 10:19:34+00:00</td>\n",
       "      <td>2023-11-10 10:21:30+00:00</td>\n",
       "      <td>116.0</td>\n",
       "      <td>rf</td>\n",
       "      <td>estimator-rf-mean-imp-scale-knn</td>\n",
       "      <td>NaN</td>\n",
       "      <td>6.0</td>\n",
       "      <td>NaN</td>\n",
       "      <td>2.0</td>\n",
       "      <td>\"log2\"</td>\n",
       "      <td>10.0</td>\n",
       "      <td>NaN</td>\n",
       "      <td>671.0</td>\n",
       "      <td>NaN</td>\n",
       "    </tr>\n",
       "    <tr>\n",
       "      <th>3</th>\n",
       "      <td>custom-automl-en-231110-1018-002-27f5c8ba</td>\n",
       "      <td>Completed</td>\n",
       "      <td>70132.359375</td>\n",
       "      <td>2023-11-10 10:19:35+00:00</td>\n",
       "      <td>2023-11-10 10:21:07+00:00</td>\n",
       "      <td>92.0</td>\n",
       "      <td>en</td>\n",
       "      <td>estimator-en-mean-imp-scale-knn</td>\n",
       "      <td>NaN</td>\n",
       "      <td>NaN</td>\n",
       "      <td>0.311232</td>\n",
       "      <td>NaN</td>\n",
       "      <td>NaN</td>\n",
       "      <td>NaN</td>\n",
       "      <td>0.000155</td>\n",
       "      <td>NaN</td>\n",
       "      <td>NaN</td>\n",
       "    </tr>\n",
       "    <tr>\n",
       "      <th>4</th>\n",
       "      <td>custom-automl-en-231110-1018-001-55da97c7</td>\n",
       "      <td>Completed</td>\n",
       "      <td>70132.359375</td>\n",
       "      <td>2023-11-10 10:19:37+00:00</td>\n",
       "      <td>2023-11-10 10:21:14+00:00</td>\n",
       "      <td>97.0</td>\n",
       "      <td>en</td>\n",
       "      <td>estimator-en-mean-imp-scale-pca</td>\n",
       "      <td>NaN</td>\n",
       "      <td>NaN</td>\n",
       "      <td>0.311232</td>\n",
       "      <td>NaN</td>\n",
       "      <td>NaN</td>\n",
       "      <td>NaN</td>\n",
       "      <td>0.000155</td>\n",
       "      <td>NaN</td>\n",
       "      <td>NaN</td>\n",
       "    </tr>\n",
       "    <tr>\n",
       "      <th>...</th>\n",
       "      <td>...</td>\n",
       "      <td>...</td>\n",
       "      <td>...</td>\n",
       "      <td>...</td>\n",
       "      <td>...</td>\n",
       "      <td>...</td>\n",
       "      <td>...</td>\n",
       "      <td>...</td>\n",
       "      <td>...</td>\n",
       "      <td>...</td>\n",
       "      <td>...</td>\n",
       "      <td>...</td>\n",
       "      <td>...</td>\n",
       "      <td>...</td>\n",
       "      <td>...</td>\n",
       "      <td>...</td>\n",
       "      <td>...</td>\n",
       "    </tr>\n",
       "    <tr>\n",
       "      <th>144</th>\n",
       "      <td>custom-automl-rf-231110-1018-065-fb69fa0d</td>\n",
       "      <td>Stopped</td>\n",
       "      <td>NaN</td>\n",
       "      <td>2023-11-10 10:41:55+00:00</td>\n",
       "      <td>2023-11-10 10:42:28+00:00</td>\n",
       "      <td>33.0</td>\n",
       "      <td>rf</td>\n",
       "      <td>estimator-rf-mean-imp-scale-pca</td>\n",
       "      <td>NaN</td>\n",
       "      <td>1.0</td>\n",
       "      <td>NaN</td>\n",
       "      <td>2.0</td>\n",
       "      <td>\"auto\"</td>\n",
       "      <td>25.0</td>\n",
       "      <td>NaN</td>\n",
       "      <td>2000.0</td>\n",
       "      <td>NaN</td>\n",
       "    </tr>\n",
       "    <tr>\n",
       "      <th>145</th>\n",
       "      <td>custom-automl-rf-231110-1018-066-d0a34172</td>\n",
       "      <td>Stopped</td>\n",
       "      <td>NaN</td>\n",
       "      <td>2023-11-10 10:42:11+00:00</td>\n",
       "      <td>2023-11-10 10:42:27+00:00</td>\n",
       "      <td>16.0</td>\n",
       "      <td>rf</td>\n",
       "      <td>estimator-rf-mean-imp-scale-pca</td>\n",
       "      <td>NaN</td>\n",
       "      <td>1.0</td>\n",
       "      <td>NaN</td>\n",
       "      <td>2.0</td>\n",
       "      <td>\"auto\"</td>\n",
       "      <td>26.0</td>\n",
       "      <td>NaN</td>\n",
       "      <td>1897.0</td>\n",
       "      <td>NaN</td>\n",
       "    </tr>\n",
       "    <tr>\n",
       "      <th>146</th>\n",
       "      <td>custom-automl-en-231110-1018-046-480ff123</td>\n",
       "      <td>Stopped</td>\n",
       "      <td>NaN</td>\n",
       "      <td>NaT</td>\n",
       "      <td>2023-11-10 10:24:59+00:00</td>\n",
       "      <td>NaN</td>\n",
       "      <td>en</td>\n",
       "      <td>estimator-en-mean-imp-scale-knn</td>\n",
       "      <td>NaN</td>\n",
       "      <td>NaN</td>\n",
       "      <td>0.010570</td>\n",
       "      <td>NaN</td>\n",
       "      <td>NaN</td>\n",
       "      <td>NaN</td>\n",
       "      <td>0.000875</td>\n",
       "      <td>NaN</td>\n",
       "      <td>NaN</td>\n",
       "    </tr>\n",
       "    <tr>\n",
       "      <th>147</th>\n",
       "      <td>custom-automl-en-231110-1018-045-968bf75b</td>\n",
       "      <td>Stopped</td>\n",
       "      <td>NaN</td>\n",
       "      <td>NaT</td>\n",
       "      <td>2023-11-10 10:25:01+00:00</td>\n",
       "      <td>NaN</td>\n",
       "      <td>en</td>\n",
       "      <td>estimator-en-mean-imp-scale-knn</td>\n",
       "      <td>NaN</td>\n",
       "      <td>NaN</td>\n",
       "      <td>0.000000</td>\n",
       "      <td>NaN</td>\n",
       "      <td>NaN</td>\n",
       "      <td>NaN</td>\n",
       "      <td>0.000813</td>\n",
       "      <td>NaN</td>\n",
       "      <td>NaN</td>\n",
       "    </tr>\n",
       "    <tr>\n",
       "      <th>148</th>\n",
       "      <td>custom-automl-en-231110-1018-044-dc9c81a6</td>\n",
       "      <td>Stopped</td>\n",
       "      <td>NaN</td>\n",
       "      <td>NaT</td>\n",
       "      <td>2023-11-10 10:25:02+00:00</td>\n",
       "      <td>NaN</td>\n",
       "      <td>en</td>\n",
       "      <td>estimator-en-mean-imp-scale-knn</td>\n",
       "      <td>NaN</td>\n",
       "      <td>NaN</td>\n",
       "      <td>0.011256</td>\n",
       "      <td>NaN</td>\n",
       "      <td>NaN</td>\n",
       "      <td>NaN</td>\n",
       "      <td>0.000967</td>\n",
       "      <td>NaN</td>\n",
       "      <td>NaN</td>\n",
       "    </tr>\n",
       "  </tbody>\n",
       "</table>\n",
       "<p>149 rows × 17 columns</p>\n",
       "</div>"
      ],
      "text/plain": [
       "                               TrainingJobName TrainingJobStatus   \n",
       "0    custom-automl-rf-231110-1018-001-bcabeebd         Completed  \\\n",
       "1    custom-automl-rf-231110-1018-002-f2a318e8         Completed   \n",
       "2    custom-automl-rf-231110-1018-003-0c788a56         Completed   \n",
       "3    custom-automl-en-231110-1018-002-27f5c8ba         Completed   \n",
       "4    custom-automl-en-231110-1018-001-55da97c7         Completed   \n",
       "..                                         ...               ...   \n",
       "144  custom-automl-rf-231110-1018-065-fb69fa0d           Stopped   \n",
       "145  custom-automl-rf-231110-1018-066-d0a34172           Stopped   \n",
       "146  custom-automl-en-231110-1018-046-480ff123           Stopped   \n",
       "147  custom-automl-en-231110-1018-045-968bf75b           Stopped   \n",
       "148  custom-automl-en-231110-1018-044-dc9c81a6           Stopped   \n",
       "\n",
       "     FinalObjectiveValue         TrainingStartTime           TrainingEndTime   \n",
       "0           60372.093750 2023-11-10 10:19:28+00:00 2023-11-10 10:21:20+00:00  \\\n",
       "1           60391.160156 2023-11-10 10:19:31+00:00 2023-11-10 10:21:33+00:00   \n",
       "2           60160.105469 2023-11-10 10:19:34+00:00 2023-11-10 10:21:30+00:00   \n",
       "3           70132.359375 2023-11-10 10:19:35+00:00 2023-11-10 10:21:07+00:00   \n",
       "4           70132.359375 2023-11-10 10:19:37+00:00 2023-11-10 10:21:14+00:00   \n",
       "..                   ...                       ...                       ...   \n",
       "144                  NaN 2023-11-10 10:41:55+00:00 2023-11-10 10:42:28+00:00   \n",
       "145                  NaN 2023-11-10 10:42:11+00:00 2023-11-10 10:42:27+00:00   \n",
       "146                  NaN                       NaT 2023-11-10 10:24:59+00:00   \n",
       "147                  NaN                       NaT 2023-11-10 10:25:01+00:00   \n",
       "148                  NaN                       NaT 2023-11-10 10:25:02+00:00   \n",
       "\n",
       "     TrainingElapsedTimeSeconds TrainingJobFamily   \n",
       "0                         112.0                rf  \\\n",
       "1                         122.0                rf   \n",
       "2                         116.0                rf   \n",
       "3                          92.0                en   \n",
       "4                          97.0                en   \n",
       "..                          ...               ...   \n",
       "144                        33.0                rf   \n",
       "145                        16.0                rf   \n",
       "146                         NaN                en   \n",
       "147                         NaN                en   \n",
       "148                         NaN                en   \n",
       "\n",
       "           TrainingJobDefinitionName  learning_rate  min_samples_leaf   \n",
       "0        estimator-rf-mean-imp-scale            NaN               6.0  \\\n",
       "1    estimator-rf-mean-imp-scale-pca            NaN               6.0   \n",
       "2    estimator-rf-mean-imp-scale-knn            NaN               6.0   \n",
       "3    estimator-en-mean-imp-scale-knn            NaN               NaN   \n",
       "4    estimator-en-mean-imp-scale-pca            NaN               NaN   \n",
       "..                               ...            ...               ...   \n",
       "144  estimator-rf-mean-imp-scale-pca            NaN               1.0   \n",
       "145  estimator-rf-mean-imp-scale-pca            NaN               1.0   \n",
       "146  estimator-en-mean-imp-scale-knn            NaN               NaN   \n",
       "147  estimator-en-mean-imp-scale-knn            NaN               NaN   \n",
       "148  estimator-en-mean-imp-scale-knn            NaN               NaN   \n",
       "\n",
       "     l1_ratio  min_samples_split max_features  max_depth     alpha   \n",
       "0         NaN                2.0       \"log2\"       10.0       NaN  \\\n",
       "1         NaN                2.0       \"log2\"       10.0       NaN   \n",
       "2         NaN                2.0       \"log2\"       10.0       NaN   \n",
       "3    0.311232                NaN          NaN        NaN  0.000155   \n",
       "4    0.311232                NaN          NaN        NaN  0.000155   \n",
       "..        ...                ...          ...        ...       ...   \n",
       "144       NaN                2.0       \"auto\"       25.0       NaN   \n",
       "145       NaN                2.0       \"auto\"       26.0       NaN   \n",
       "146  0.010570                NaN          NaN        NaN  0.000875   \n",
       "147  0.000000                NaN          NaN        NaN  0.000813   \n",
       "148  0.011256                NaN          NaN        NaN  0.000967   \n",
       "\n",
       "     n_estimators  subsample  \n",
       "0           671.0        NaN  \n",
       "1           671.0        NaN  \n",
       "2           671.0        NaN  \n",
       "3             NaN        NaN  \n",
       "4             NaN        NaN  \n",
       "..            ...        ...  \n",
       "144        2000.0        NaN  \n",
       "145        1897.0        NaN  \n",
       "146           NaN        NaN  \n",
       "147           NaN        NaN  \n",
       "148           NaN        NaN  \n",
       "\n",
       "[149 rows x 17 columns]"
      ]
     },
     "execution_count": 17,
     "metadata": {},
     "output_type": "execute_result"
    }
   ],
   "source": [
    "df_tuner_results"
   ]
  },
  {
   "cell_type": "markdown",
   "metadata": {},
   "source": [
    "#### Final Objective Value Change"
   ]
  },
  {
   "cell_type": "code",
   "execution_count": 18,
   "metadata": {
    "tags": []
   },
   "outputs": [
    {
     "name": "stderr",
     "output_type": "stream",
     "text": [
      "/tmp/ipykernel_10548/1021296439.py:2: UserWarning: FixedFormatter should only be used together with FixedLocator\n",
      "  ax.set_xticklabels(ax.get_xticklabels(), rotation=45)\n"
     ]
    },
    {
     "data": {
      "image/png": "[encoded data removed]",
      "text/plain": [
       "<Figure size 640x480 with 1 Axes>"
      ]
     },
     "metadata": {},
     "output_type": "display_data"
    }
   ],
   "source": [
    "ax = sns.lineplot(data=df_tuner_results, x=\"TrainingStartTime\", y=\"FinalObjectiveValue\", hue=\"TrainingJobFamily\")\n",
    "ax.set_xticklabels(ax.get_xticklabels(), rotation=45)\n",
    "plt.show()"
   ]
  },
  {
   "cell_type": "markdown",
   "metadata": {
    "tags": []
   },
   "source": [
    "#### Final Objective Value Change per JobDefinitionName"
   ]
  },
  {
   "cell_type": "code",
   "execution_count": 19,
   "metadata": {
    "tags": []
   },
   "outputs": [
    {
     "name": "stderr",
     "output_type": "stream",
     "text": [
      "/tmp/ipykernel_10548/2631572192.py:3: UserWarning: FixedFormatter should only be used together with FixedLocator\n",
      "  ax.set_xticklabels(ax.get_xticklabels(), rotation=45)\n"
     ]
    },
    {
     "data": {
      "image/png": "[encoded data removed]",
      "text/plain": [
       "<Figure size 640x480 with 1 Axes>"
      ]
     },
     "metadata": {},
     "output_type": "display_data"
    }
   ],
   "source": [
    "ax = sns.lineplot(data=df_tuner_results, x=\"TrainingStartTime\", y=\"FinalObjectiveValue\", hue=\"TrainingJobDefinitionName\")\n",
    "sns.move_legend(ax, \"upper left\", bbox_to_anchor=(1, 1))\n",
    "ax.set_xticklabels(ax.get_xticklabels(), rotation=45)\n",
    "plt.show()"
   ]
  },
  {
   "cell_type": "code",
   "execution_count": 20,
   "metadata": {
    "tags": []
   },
   "outputs": [
    {
     "data": {
      "text/plain": [
       "<AxesSubplot: xlabel='l1_ratio', ylabel='alpha'>"
      ]
     },
     "execution_count": 20,
     "metadata": {},
     "output_type": "execute_result"
    },
    {
     "data": {
      "image/png": "[encoded data removed]",
      "text/plain": [
       "<Figure size 640x480 with 1 Axes>"
      ]
     },
     "metadata": {},
     "output_type": "display_data"
    }
   ],
   "source": [
    "df_tuner_results.loc[df_tuner_results[\"TrainingJobFamily\"] == \"en\", [\"l1_ratio\", \"alpha\"]].plot.scatter(\"l1_ratio\", \"alpha\")"
   ]
  },
  {
   "cell_type": "markdown",
   "metadata": {},
   "source": [
    "## Select Best Model"
   ]
  },
  {
   "cell_type": "code",
   "execution_count": 21,
   "metadata": {
    "tags": []
   },
   "outputs": [],
   "source": [
    "df_best_job = df_tuner_results.loc[df_tuner_results[\"FinalObjectiveValue\"] == df_tuner_results[\"FinalObjectiveValue\"].min()]\n",
    "df_best_job\n",
    "BEST_MODEL_FAMILY = df_best_job[\"TrainingJobFamily\"].values[0]"
   ]
  },
  {
   "cell_type": "code",
   "execution_count": 22,
   "metadata": {
    "tags": []
   },
   "outputs": [
    {
     "data": {
      "text/plain": [
       "'custom-automl-gb-231110-1018-001-a47fc731'"
      ]
     },
     "execution_count": 22,
     "metadata": {},
     "output_type": "execute_result"
    }
   ],
   "source": [
    "tuners.get(BEST_MODEL_FAMILY).best_training_job()"
   ]
  },
  {
   "cell_type": "code",
   "execution_count": 23,
   "metadata": {
    "tags": []
   },
   "outputs": [
    {
     "name": "stdout",
     "output_type": "stream",
     "text": [
      "\n",
      "2023-11-10 10:22:24 Starting - Preparing the instances for training\n",
      "2023-11-10 10:22:24 Downloading - Downloading input data\n",
      "2023-11-10 10:22:24 Training - Training image download completed. Training in progress.\n",
      "2023-11-10 10:22:24 Uploading - Uploading generated training model\n",
      "2023-11-10 10:22:24 Completed - Resource reused by training job: custom-automl-gb-231110-1018-016-5c954346\n"
     ]
    },
    {
     "data": {
      "text/plain": [
       "<__main__.SKLearnBase at 0x7f2dc9901330>"
      ]
     },
     "execution_count": 23,
     "metadata": {},
     "output_type": "execute_result"
    }
   ],
   "source": [
    "tuners.get(BEST_MODEL_FAMILY).best_estimator()"
   ]
  },
  {
   "cell_type": "markdown",
   "metadata": {},
   "source": [
    "## Deploy Best Model"
   ]
  },
  {
   "cell_type": "code",
   "execution_count": 24,
   "metadata": {
    "tags": []
   },
   "outputs": [
    {
     "name": "stdout",
     "output_type": "stream",
     "text": [
      "\n",
      "2023-11-10 10:22:24 Starting - Preparing the instances for training\n",
      "2023-11-10 10:22:24 Downloading - Downloading input data\n",
      "2023-11-10 10:22:24 Training - Training image download completed. Training in progress.\n",
      "2023-11-10 10:22:24 Uploading - Uploading generated training model\n",
      "2023-11-10 10:22:24 Completed - Resource reused by training job: custom-automl-gb-231110-1018-016-5c954346\n",
      "------!"
     ]
    }
   ],
   "source": [
    "predictor = tuners.get(BEST_MODEL_FAMILY).deploy(\n",
    "    initial_instance_count=1,\n",
    "    instance_type=\"ml.c4.large\",\n",
    "    endpoint_name=f\"custom-automl-endpoint-{BEST_MODEL_FAMILY}\",\n",
    ")"
   ]
  },
  {
   "cell_type": "markdown",
   "metadata": {
    "tags": []
   },
   "source": [
    "## Cleanup\n",
    "Delete the model endpoint if you deployed it. Endpoints should be deleted when no longer in use, since (per [SageMaker pricing page](https://aws.amazon.com/sagemaker/pricing/)) they’re billed by time deployed."
   ]
  },
  {
   "cell_type": "code",
   "execution_count": 25,
   "metadata": {
    "tags": []
   },
   "outputs": [
    {
     "name": "stderr",
     "output_type": "stream",
     "text": [
      "The endpoint attribute has been renamed in sagemaker>=2.\n",
      "See: https://sagemaker.readthedocs.io/en/stable/v2.html for details.\n"
     ]
    },
    {
     "data": {
      "text/plain": [
       "{'ResponseMetadata': {'RequestId': 'bbd6995c-4ac9-4d4e-9f6d-fd4a0303c617',\n",
       "  'HTTPStatusCode': 200,\n",
       "  'HTTPHeaders': {'x-amzn-requestid': 'bbd6995c-4ac9-4d4e-9f6d-fd4a0303c617',\n",
       "   'content-type': 'application/x-amz-json-1.1',\n",
       "   'content-length': '0',\n",
       "   'date': 'Fri, 10 Nov 2023 12:52:54 GMT'},\n",
       "  'RetryAttempts': 0}}"
      ]
     },
     "execution_count": 25,
     "metadata": {},
     "output_type": "execute_result"
    }
   ],
   "source": [
    "# NOTE: Don't forget to delete the endpoint afterwards\n",
    "sm_client.delete_endpoint(EndpointName=predictor.endpoint)"
   ]
  },
  {
   "cell_type": "code",
   "execution_count": null,
   "metadata": {},
   "outputs": [],
   "source": []
  }
 ],
 "metadata": {
  "kernelspec": {
   "display_name": "conda_python3",
   "language": "python",
   "name": "conda_python3"
  },
  "language_info": {
   "codemirror_mode": {
    "name": "ipython",
    "version": 3
   },
   "file_extension": ".py",
   "mimetype": "text/x-python",
   "name": "python",
   "nbconvert_exporter": "python",
   "pygments_lexer": "ipython3",
   "version": "3.10.8"
  }
 },
 "nbformat": 4,
 "nbformat_minor": 4
}
