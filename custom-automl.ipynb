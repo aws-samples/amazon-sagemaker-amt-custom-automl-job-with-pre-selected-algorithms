{
 "cells": [
  {
   "cell_type": "markdown",
   "metadata": {},
   "source": [
    "## Imports & Setup"
   ]
  },
  {
   "cell_type": "code",
   "execution_count": 5,
   "metadata": {
    "scrolled": true,
    "tags": []
   },
   "outputs": [
    {
     "name": "stdout",
     "output_type": "stream",
     "text": [
      "Requirement already satisfied: pandas in /home/ec2-user/anaconda3/envs/python3/lib/python3.10/site-packages (from -r requirements.txt (line 1)) (2.0.3)\n",
      "Requirement already satisfied: numpy in /home/ec2-user/anaconda3/envs/python3/lib/python3.10/site-packages (from -r requirements.txt (line 2)) (1.22.3)\n",
      "Requirement already satisfied: awswrangler in /home/ec2-user/anaconda3/envs/python3/lib/python3.10/site-packages (from -r requirements.txt (line 3)) (3.4.0)\n",
      "Requirement already satisfied: sagemaker==2.162.0 in /home/ec2-user/anaconda3/envs/python3/lib/python3.10/site-packages (from -r requirements.txt (line 4)) (2.162.0)\n",
      "Requirement already satisfied: boto3 in /home/ec2-user/anaconda3/envs/python3/lib/python3.10/site-packages (from -r requirements.txt (line 5)) (1.28.41)\n",
      "Requirement already satisfied: s3pathlib in /home/ec2-user/anaconda3/envs/python3/lib/python3.10/site-packages (from -r requirements.txt (line 6)) (2.1.2)\n",
      "Requirement already satisfied: python-dotenv in /home/ec2-user/anaconda3/envs/python3/lib/python3.10/site-packages (from -r requirements.txt (line 7)) (1.0.0)\n",
      "Requirement already satisfied: scikit-learn in /home/ec2-user/anaconda3/envs/python3/lib/python3.10/site-packages (from -r requirements.txt (line 8)) (1.3.0)\n",
      "Requirement already satisfied: seaborn in /home/ec2-user/anaconda3/envs/python3/lib/python3.10/site-packages (from -r requirements.txt (line 9)) (0.12.2)\n",
      "Requirement already satisfied: attrs<24,>=23.1.0 in /home/ec2-user/anaconda3/envs/python3/lib/python3.10/site-packages (from sagemaker==2.162.0->-r requirements.txt (line 4)) (23.1.0)\n",
      "Requirement already satisfied: cloudpickle==2.2.1 in /home/ec2-user/anaconda3/envs/python3/lib/python3.10/site-packages (from sagemaker==2.162.0->-r requirements.txt (line 4)) (2.2.1)\n",
      "Requirement already satisfied: google-pasta in /home/ec2-user/anaconda3/envs/python3/lib/python3.10/site-packages (from sagemaker==2.162.0->-r requirements.txt (line 4)) (0.2.0)\n",
      "Requirement already satisfied: protobuf<4.0,>=3.1 in /home/ec2-user/anaconda3/envs/python3/lib/python3.10/site-packages (from sagemaker==2.162.0->-r requirements.txt (line 4)) (3.20.3)\n",
      "Requirement already satisfied: protobuf3-to-dict<1.0,>=0.1.5 in /home/ec2-user/anaconda3/envs/python3/lib/python3.10/site-packages (from sagemaker==2.162.0->-r requirements.txt (line 4)) (0.1.5)\n",
      "Requirement already satisfied: smdebug-rulesconfig==1.0.1 in /home/ec2-user/anaconda3/envs/python3/lib/python3.10/site-packages (from sagemaker==2.162.0->-r requirements.txt (line 4)) (1.0.1)\n",
      "Requirement already satisfied: importlib-metadata<5.0,>=1.4.0 in /home/ec2-user/anaconda3/envs/python3/lib/python3.10/site-packages (from sagemaker==2.162.0->-r requirements.txt (line 4)) (4.13.0)\n",
      "Requirement already satisfied: packaging>=20.0 in /home/ec2-user/anaconda3/envs/python3/lib/python3.10/site-packages (from sagemaker==2.162.0->-r requirements.txt (line 4)) (21.3)\n",
      "Requirement already satisfied: pathos in /home/ec2-user/anaconda3/envs/python3/lib/python3.10/site-packages (from sagemaker==2.162.0->-r requirements.txt (line 4)) (0.3.1)\n",
      "Requirement already satisfied: schema in /home/ec2-user/anaconda3/envs/python3/lib/python3.10/site-packages (from sagemaker==2.162.0->-r requirements.txt (line 4)) (0.7.5)\n",
      "Requirement already satisfied: PyYAML==6.0 in /home/ec2-user/anaconda3/envs/python3/lib/python3.10/site-packages (from sagemaker==2.162.0->-r requirements.txt (line 4)) (6.0)\n",
      "Requirement already satisfied: jsonschema in /home/ec2-user/anaconda3/envs/python3/lib/python3.10/site-packages (from sagemaker==2.162.0->-r requirements.txt (line 4)) (4.18.4)\n",
      "Requirement already satisfied: platformdirs in /home/ec2-user/anaconda3/envs/python3/lib/python3.10/site-packages (from sagemaker==2.162.0->-r requirements.txt (line 4)) (3.9.1)\n",
      "Requirement already satisfied: tblib==1.7.0 in /home/ec2-user/anaconda3/envs/python3/lib/python3.10/site-packages (from sagemaker==2.162.0->-r requirements.txt (line 4)) (1.7.0)\n",
      "Requirement already satisfied: python-dateutil>=2.8.2 in /home/ec2-user/anaconda3/envs/python3/lib/python3.10/site-packages (from pandas->-r requirements.txt (line 1)) (2.8.2)\n",
      "Requirement already satisfied: pytz>=2020.1 in /home/ec2-user/anaconda3/envs/python3/lib/python3.10/site-packages (from pandas->-r requirements.txt (line 1)) (2023.3)\n",
      "Requirement already satisfied: tzdata>=2022.1 in /home/ec2-user/anaconda3/envs/python3/lib/python3.10/site-packages (from pandas->-r requirements.txt (line 1)) (2023.3)\n",
      "Requirement already satisfied: botocore<2.0.0,>=1.23.32 in /home/ec2-user/anaconda3/envs/python3/lib/python3.10/site-packages (from awswrangler->-r requirements.txt (line 3)) (1.31.41)\n",
      "Requirement already satisfied: pyarrow>=7.0.0 in /home/ec2-user/anaconda3/envs/python3/lib/python3.10/site-packages (from awswrangler->-r requirements.txt (line 3)) (12.0.1)\n",
      "Requirement already satisfied: typing-extensions<5.0.0,>=4.4.0 in /home/ec2-user/anaconda3/envs/python3/lib/python3.10/site-packages (from awswrangler->-r requirements.txt (line 3)) (4.7.1)\n",
      "Requirement already satisfied: jmespath<2.0.0,>=0.7.1 in /home/ec2-user/anaconda3/envs/python3/lib/python3.10/site-packages (from boto3->-r requirements.txt (line 5)) (1.0.1)\n",
      "Requirement already satisfied: s3transfer<0.7.0,>=0.6.0 in /home/ec2-user/anaconda3/envs/python3/lib/python3.10/site-packages (from boto3->-r requirements.txt (line 5)) (0.6.1)\n",
      "Requirement already satisfied: iterproxy in /home/ec2-user/anaconda3/envs/python3/lib/python3.10/site-packages (from s3pathlib->-r requirements.txt (line 6)) (0.2.1)\n",
      "Requirement already satisfied: func-args in /home/ec2-user/anaconda3/envs/python3/lib/python3.10/site-packages (from s3pathlib->-r requirements.txt (line 6)) (0.1.1)\n",
      "Requirement already satisfied: pathlib-mate<2.0.0,>=1.0.1 in /home/ec2-user/anaconda3/envs/python3/lib/python3.10/site-packages (from s3pathlib->-r requirements.txt (line 6)) (1.2.1)\n",
      "Requirement already satisfied: boto-session-manager<2.0.0,>=1.5.1 in /home/ec2-user/anaconda3/envs/python3/lib/python3.10/site-packages (from s3pathlib->-r requirements.txt (line 6)) (1.5.4)\n",
      "Requirement already satisfied: smart-open<7.0.0,>=5.1.0 in /home/ec2-user/anaconda3/envs/python3/lib/python3.10/site-packages (from s3pathlib->-r requirements.txt (line 6)) (6.4.0)\n",
      "Requirement already satisfied: scipy>=1.5.0 in /home/ec2-user/anaconda3/envs/python3/lib/python3.10/site-packages (from scikit-learn->-r requirements.txt (line 8)) (1.11.1)\n",
      "Requirement already satisfied: joblib>=1.1.1 in /home/ec2-user/anaconda3/envs/python3/lib/python3.10/site-packages (from scikit-learn->-r requirements.txt (line 8)) (1.3.0)\n",
      "Requirement already satisfied: threadpoolctl>=2.0.0 in /home/ec2-user/anaconda3/envs/python3/lib/python3.10/site-packages (from scikit-learn->-r requirements.txt (line 8)) (3.2.0)\n",
      "Requirement already satisfied: matplotlib!=3.6.1,>=3.1 in /home/ec2-user/anaconda3/envs/python3/lib/python3.10/site-packages (from seaborn->-r requirements.txt (line 9)) (3.7.2)\n",
      "Requirement already satisfied: urllib3<1.27,>=1.25.4 in /home/ec2-user/anaconda3/envs/python3/lib/python3.10/site-packages (from botocore<2.0.0,>=1.23.32->awswrangler->-r requirements.txt (line 3)) (1.26.14)\n",
      "Requirement already satisfied: zipp>=0.5 in /home/ec2-user/anaconda3/envs/python3/lib/python3.10/site-packages (from importlib-metadata<5.0,>=1.4.0->sagemaker==2.162.0->-r requirements.txt (line 4)) (3.16.2)\n",
      "Requirement already satisfied: contourpy>=1.0.1 in /home/ec2-user/anaconda3/envs/python3/lib/python3.10/site-packages (from matplotlib!=3.6.1,>=3.1->seaborn->-r requirements.txt (line 9)) (1.1.0)\n",
      "Requirement already satisfied: cycler>=0.10 in /home/ec2-user/anaconda3/envs/python3/lib/python3.10/site-packages (from matplotlib!=3.6.1,>=3.1->seaborn->-r requirements.txt (line 9)) (0.11.0)\n",
      "Requirement already satisfied: fonttools>=4.22.0 in /home/ec2-user/anaconda3/envs/python3/lib/python3.10/site-packages (from matplotlib!=3.6.1,>=3.1->seaborn->-r requirements.txt (line 9)) (4.41.0)\n",
      "Requirement already satisfied: kiwisolver>=1.0.1 in /home/ec2-user/anaconda3/envs/python3/lib/python3.10/site-packages (from matplotlib!=3.6.1,>=3.1->seaborn->-r requirements.txt (line 9)) (1.4.4)\n",
      "Requirement already satisfied: pillow>=6.2.0 in /home/ec2-user/anaconda3/envs/python3/lib/python3.10/site-packages (from matplotlib!=3.6.1,>=3.1->seaborn->-r requirements.txt (line 9)) (9.4.0)\n",
      "Requirement already satisfied: pyparsing<3.1,>=2.3.1 in /home/ec2-user/anaconda3/envs/python3/lib/python3.10/site-packages (from matplotlib!=3.6.1,>=3.1->seaborn->-r requirements.txt (line 9)) (3.0.9)\n",
      "Requirement already satisfied: six in /home/ec2-user/anaconda3/envs/python3/lib/python3.10/site-packages (from pathlib-mate<2.0.0,>=1.0.1->s3pathlib->-r requirements.txt (line 6)) (1.16.0)\n",
      "Requirement already satisfied: atomicwrites in /home/ec2-user/anaconda3/envs/python3/lib/python3.10/site-packages (from pathlib-mate<2.0.0,>=1.0.1->s3pathlib->-r requirements.txt (line 6)) (1.4.1)\n",
      "Requirement already satisfied: jsonschema-specifications>=2023.03.6 in /home/ec2-user/anaconda3/envs/python3/lib/python3.10/site-packages (from jsonschema->sagemaker==2.162.0->-r requirements.txt (line 4)) (2023.7.1)\n",
      "Requirement already satisfied: referencing>=0.28.4 in /home/ec2-user/anaconda3/envs/python3/lib/python3.10/site-packages (from jsonschema->sagemaker==2.162.0->-r requirements.txt (line 4)) (0.30.0)\n",
      "Requirement already satisfied: rpds-py>=0.7.1 in /home/ec2-user/anaconda3/envs/python3/lib/python3.10/site-packages (from jsonschema->sagemaker==2.162.0->-r requirements.txt (line 4)) (0.9.2)\n",
      "Requirement already satisfied: ppft>=1.7.6.7 in /home/ec2-user/anaconda3/envs/python3/lib/python3.10/site-packages (from pathos->sagemaker==2.162.0->-r requirements.txt (line 4)) (1.7.6.7)\n",
      "Requirement already satisfied: dill>=0.3.7 in /home/ec2-user/anaconda3/envs/python3/lib/python3.10/site-packages (from pathos->sagemaker==2.162.0->-r requirements.txt (line 4)) (0.3.7)\n",
      "Requirement already satisfied: pox>=0.3.3 in /home/ec2-user/anaconda3/envs/python3/lib/python3.10/site-packages (from pathos->sagemaker==2.162.0->-r requirements.txt (line 4)) (0.3.3)\n",
      "Requirement already satisfied: multiprocess>=0.70.15 in /home/ec2-user/anaconda3/envs/python3/lib/python3.10/site-packages (from pathos->sagemaker==2.162.0->-r requirements.txt (line 4)) (0.70.15)\n",
      "Requirement already satisfied: contextlib2>=0.5.5 in /home/ec2-user/anaconda3/envs/python3/lib/python3.10/site-packages (from schema->sagemaker==2.162.0->-r requirements.txt (line 4)) (21.6.0)\n"
     ]
    }
   ],
   "source": [
    "#Copyright Amazon.com, Inc. or its affiliates. All Rights Reserved.\n",
    "#SPDX-License-Identifier: MIT-0\n",
    "\n",
    "!pip install -r requirements.txt"
   ]
  },
  {
   "cell_type": "code",
   "execution_count": 6,
   "metadata": {
    "tags": []
   },
   "outputs": [],
   "source": [
    "import os\n",
    "import time\n",
    "import boto3\n",
    "import fileinput\n",
    "import numpy as np\n",
    "import pandas as pd\n",
    "import awswrangler as wr\n",
    "import seaborn as sns\n",
    "import matplotlib.pyplot as plt\n",
    "\n",
    "from dataclasses import dataclass\n",
    "from s3pathlib import S3Path\n",
    "\n",
    "from sklearn.datasets import fetch_california_housing\n",
    "from sklearn.model_selection import train_test_split\n",
    "\n",
    "import sagemaker\n",
    "from sagemaker.inputs import TrainingInput\n",
    "from sagemaker.sklearn.estimator import SKLearn\n",
    "from sagemaker.tuner import (\n",
    "    IntegerParameter,\n",
    "    ContinuousParameter,\n",
    "    CategoricalParameter,\n",
    "\n",
    "    TuningJobCompletionCriteriaConfig,\n",
    "    HyperparameterTuner,\n",
    "    )\n",
    "\n",
    "# Configure settings\n",
    "pd.set_option(\"display.max_rows\", 50)"
   ]
  },
  {
   "cell_type": "code",
   "execution_count": 7,
   "metadata": {
    "tags": []
   },
   "outputs": [],
   "source": [
    "session = sagemaker.session.Session()\n",
    "region = session.boto_region_name\n",
    "\n",
    "sm_client = boto3.client(\"sagemaker\")\n",
    "sm_role = sagemaker.get_execution_role()\n",
    "\n",
    "BUCKET = session.default_bucket()\n",
    "PREFIX = \"01-automl\"\n",
    "\n",
    "s3_data = S3Path(BUCKET, PREFIX)"
   ]
  },
  {
   "cell_type": "markdown",
   "metadata": {},
   "source": [
    "## Upload Data"
   ]
  },
  {
   "cell_type": "code",
   "execution_count": 8,
   "metadata": {
    "tags": []
   },
   "outputs": [
    {
     "name": "stdout",
     "output_type": "stream",
     "text": [
      "mkdir: cannot create directory ‘./data’: File exists\n"
     ]
    }
   ],
   "source": [
    "df_california = fetch_california_housing(\n",
    "    return_X_y=False,\n",
    "    as_frame=True,\n",
    "    )\n",
    "\n",
    "!mkdir ./data\n",
    "california = fetch_california_housing(\n",
    "    return_X_y=False,\n",
    "    as_frame=True,\n",
    "    )\n",
    "df_california = pd.concat([california[\"data\"], california[\"target\"]], axis=1)\n",
    "df_california.to_parquet(\"data/df_california_housing.parquet\", index=False)"
   ]
  },
  {
   "cell_type": "code",
   "execution_count": 9,
   "metadata": {
    "tags": []
   },
   "outputs": [
    {
     "data": {
      "text/html": [
       "<div>\n",
       "<style scoped>\n",
       "    .dataframe tbody tr th:only-of-type {\n",
       "        vertical-align: middle;\n",
       "    }\n",
       "\n",
       "    .dataframe tbody tr th {\n",
       "        vertical-align: top;\n",
       "    }\n",
       "\n",
       "    .dataframe thead th {\n",
       "        text-align: right;\n",
       "    }\n",
       "</style>\n",
       "<table border=\"1\" class=\"dataframe\">\n",
       "  <thead>\n",
       "    <tr style=\"text-align: right;\">\n",
       "      <th></th>\n",
       "      <th>MedInc</th>\n",
       "      <th>HouseAge</th>\n",
       "      <th>AveRooms</th>\n",
       "      <th>AveBedrms</th>\n",
       "      <th>Population</th>\n",
       "      <th>AveOccup</th>\n",
       "      <th>Latitude</th>\n",
       "      <th>Longitude</th>\n",
       "      <th>MedHouseVal</th>\n",
       "    </tr>\n",
       "  </thead>\n",
       "  <tbody>\n",
       "    <tr>\n",
       "      <th>0</th>\n",
       "      <td>8.3252</td>\n",
       "      <td>41.0</td>\n",
       "      <td>6.984127</td>\n",
       "      <td>1.023810</td>\n",
       "      <td>322.0</td>\n",
       "      <td>2.555556</td>\n",
       "      <td>37.88</td>\n",
       "      <td>-122.23</td>\n",
       "      <td>4.526</td>\n",
       "    </tr>\n",
       "    <tr>\n",
       "      <th>1</th>\n",
       "      <td>8.3014</td>\n",
       "      <td>21.0</td>\n",
       "      <td>6.238137</td>\n",
       "      <td>0.971880</td>\n",
       "      <td>2401.0</td>\n",
       "      <td>2.109842</td>\n",
       "      <td>37.86</td>\n",
       "      <td>-122.22</td>\n",
       "      <td>3.585</td>\n",
       "    </tr>\n",
       "    <tr>\n",
       "      <th>2</th>\n",
       "      <td>7.2574</td>\n",
       "      <td>52.0</td>\n",
       "      <td>8.288136</td>\n",
       "      <td>1.073446</td>\n",
       "      <td>496.0</td>\n",
       "      <td>2.802260</td>\n",
       "      <td>37.85</td>\n",
       "      <td>-122.24</td>\n",
       "      <td>3.521</td>\n",
       "    </tr>\n",
       "    <tr>\n",
       "      <th>3</th>\n",
       "      <td>5.6431</td>\n",
       "      <td>52.0</td>\n",
       "      <td>5.817352</td>\n",
       "      <td>1.073059</td>\n",
       "      <td>558.0</td>\n",
       "      <td>2.547945</td>\n",
       "      <td>37.85</td>\n",
       "      <td>-122.25</td>\n",
       "      <td>3.413</td>\n",
       "    </tr>\n",
       "    <tr>\n",
       "      <th>4</th>\n",
       "      <td>3.8462</td>\n",
       "      <td>52.0</td>\n",
       "      <td>6.281853</td>\n",
       "      <td>1.081081</td>\n",
       "      <td>565.0</td>\n",
       "      <td>2.181467</td>\n",
       "      <td>37.85</td>\n",
       "      <td>-122.25</td>\n",
       "      <td>3.422</td>\n",
       "    </tr>\n",
       "  </tbody>\n",
       "</table>\n",
       "</div>"
      ],
      "text/plain": [
       "   MedInc  HouseAge  AveRooms  AveBedrms  Population  AveOccup  Latitude  \\\n",
       "0  8.3252      41.0  6.984127   1.023810       322.0  2.555556     37.88   \n",
       "1  8.3014      21.0  6.238137   0.971880      2401.0  2.109842     37.86   \n",
       "2  7.2574      52.0  8.288136   1.073446       496.0  2.802260     37.85   \n",
       "3  5.6431      52.0  5.817352   1.073059       558.0  2.547945     37.85   \n",
       "4  3.8462      52.0  6.281853   1.081081       565.0  2.181467     37.85   \n",
       "\n",
       "   Longitude  MedHouseVal  \n",
       "0    -122.23        4.526  \n",
       "1    -122.22        3.585  \n",
       "2    -122.24        3.521  \n",
       "3    -122.25        3.413  \n",
       "4    -122.25        3.422  "
      ]
     },
     "execution_count": 9,
     "metadata": {},
     "output_type": "execute_result"
    }
   ],
   "source": [
    "df_california.head()"
   ]
  },
  {
   "cell_type": "code",
   "execution_count": 10,
   "metadata": {
    "tags": []
   },
   "outputs": [],
   "source": [
    "df_train, df_test = train_test_split(df_california, test_size=0.2, random_state=42)\n",
    "\n",
    "df_train.to_parquet(\"data/df_train.parquet\", index=False)\n",
    "df_test.to_parquet(\"data/df_test.parquet\", index=False)\n",
    "\n",
    "s3_data_train = s3_data.joinpath(\"train.parquet\")\n",
    "s3_data_test = s3_data.joinpath(\"test.parquet\")\n",
    "\n",
    "wr.s3.upload(local_file=\"data/df_train.parquet\", path=s3_data_train.uri)\n",
    "wr.s3.upload(local_file=\"data/df_test.parquet\", path=s3_data_test.uri)"
   ]
  },
  {
   "cell_type": "markdown",
   "metadata": {},
   "source": [
    "## Create Training Scripts"
   ]
  },
  {
   "cell_type": "code",
   "execution_count": 11,
   "metadata": {
    "tags": []
   },
   "outputs": [],
   "source": [
    "#create base script \n",
    "_script = \"\"\"\n",
    "import argparse\n",
    "import joblib\n",
    "import os\n",
    "\n",
    "import numpy as np\n",
    "import pandas as pd\n",
    "\n",
    "from sklearn.metrics import mean_squared_error\n",
    "\n",
    "from sklearn.pipeline import Pipeline\n",
    "from sklearn.preprocessing import StandardScaler\n",
    "from sklearn.decomposition import PCA\n",
    "from sklearn.impute import SimpleImputer\n",
    "from sklearn.cluster import KMeans\n",
    "\n",
    "from sklearn.linear_model import ElasticNet\n",
    "from sklearn.ensemble import RandomForestRegressor\n",
    "from sklearn.ensemble import GradientBoostingRegressor\n",
    "\n",
    "###########################\n",
    "### Inference functions ###\n",
    "###########################\n",
    "\n",
    "def model_fn(model_dir):\n",
    "    clf = joblib.load(os.path.join(model_dir, \"model.joblib\"))\n",
    "    return clf\n",
    "\n",
    "if __name__ == \"__main__\":\n",
    "\n",
    "    print(\"Extracting arguments\")\n",
    "    parser = argparse.ArgumentParser()\n",
    "\n",
    "    # Hyperparameters\n",
    "    ##### WILL BE INSERTED DYNAMICALLY #####\n",
    "    {}\n",
    "\n",
    "    ############################\n",
    "\n",
    "    # Data, model, and output directories\n",
    "    parser.add_argument(\"--model-dir\", type=str, default=os.environ.get(\"SM_MODEL_DIR\"))\n",
    "    parser.add_argument(\"--train\", type=str, default=os.environ.get(\"SM_CHANNEL_TRAIN\"))\n",
    "    parser.add_argument(\"--test\", type=str, default=os.environ.get(\"SM_CHANNEL_TEST\"))\n",
    "    parser.add_argument(\"--train-file\", type=str, default=\"train.parquet\")\n",
    "    parser.add_argument(\"--test-file\", type=str, default=\"test.parquet\")\n",
    "    parser.add_argument(\"--features\", type=str)\n",
    "    parser.add_argument(\"--target\", type=str)\n",
    "\n",
    "    args, _ = parser.parse_known_args()\n",
    "\n",
    "    # Load and prepare data\n",
    "    train_df = pd.read_parquet(os.path.join(args.train, args.train_file))\n",
    "    test_df = pd.read_parquet(os.path.join(args.test, args.test_file))\n",
    "\n",
    "    X_train = train_df[args.features.split()]\n",
    "    X_test = test_df[args.features.split()]\n",
    "    y_train = train_df[args.target]\n",
    "    y_test = test_df[args.target]\n",
    "\n",
    "    # Train model\n",
    "    ##### WILL BE INSERTED DYNAMICALLY #####\n",
    "    {}\n",
    "    {}\n",
    "    \n",
    "\n",
    "    ############################\n",
    "    pipeline = Pipeline([('preprocessor', preprocessor), ('model', model)])\n",
    "    pipeline.fit(X_train, y_train)\n",
    "\n",
    "    # Validate model and print metrics\n",
    "    rmse = mean_squared_error(y_test, pipeline.predict(X_test), squared=False)\n",
    "    print(\"RMSE: \" + str(rmse))\n",
    "\n",
    "    # Persist model\n",
    "    path = os.path.join(args.model_dir, \"model.joblib\")\n",
    "    joblib.dump(pipeline, path)\n",
    "\"\"\"\n",
    "\n",
    "# write _script to file just to have it in hand\n",
    "with open(\"script_draft.py\", \"w\") as f:\n",
    "    print(_script, file=f)"
   ]
  },
  {
   "cell_type": "code",
   "execution_count": 12,
   "metadata": {
    "tags": []
   },
   "outputs": [],
   "source": [
    "# We are reusing a generic training script into which we will dynamically insert each algorithm hyperparameter arguments and the model call itself\n",
    "\n",
    "preprocessors = {\n",
    "    \"mean-imp\": \"preprocessor = Pipeline([('imputer', SimpleImputer(strategy='mean'))])\\n\",\n",
    "    \"mean-imp-scale\": \"preprocessor = Pipeline([('imputer', SimpleImputer(strategy='mean')), ('scaler', StandardScaler())])\\n\",\n",
    "    \"mean-imp-scale-pca\": \"preprocessor = Pipeline([('imputer', SimpleImputer(strategy='mean')), ('scaler', StandardScaler()), ('pca', PCA(n_components=0.9))])\\n\",    \n",
    "}\n",
    "\n",
    "models = {\n",
    "    \"rf\": {\n",
    "        \"script_output\": None,\n",
    "        \"insertions\": {\n",
    "            # Arguments\n",
    "            \"arguments\" : \n",
    "            \"parser.add_argument('--n_estimators', type=int, default=100)\\n\"+\n",
    "            \"    parser.add_argument('--min_samples_leaf', type=int, default=2)\\n\"+\n",
    "            \"    parser.add_argument('--max_features', type=str, default='auto')\\n\",\n",
    "            # Model call\n",
    "            \"preprocessor\": None,\n",
    "            \"model_call\" : \"model = RandomForestRegressor(n_estimators=args.n_estimators,min_samples_leaf=args.min_samples_leaf, max_features=args.max_features)\\n\"\n",
    "        },\n",
    "        \"hyperparameters\": {\n",
    "            \"n_estimators\": IntegerParameter(100, 1000),\n",
    "            \"min_samples_leaf\": IntegerParameter(2, 6),\n",
    "            \"max_features\": CategoricalParameter([\"auto\", \"sqrt\", \"log2\"]),\n",
    "        },\n",
    "        \"include_cls_metadata\": False,\n",
    "    },\n",
    "    \"gb\": {\n",
    "        \"script_output\": None,\n",
    "        \"insertions\": {\n",
    "            # Arguments\n",
    "            \"arguments\" : \n",
    "            \"parser.add_argument('--n_estimators', type=int, default=100)\\n\"+\n",
    "            \"    parser.add_argument('--subsample', type=float, default=1.0)\\n\"+\n",
    "            \"    parser.add_argument('--max_features', type=str, default='auto')\\n\"+\n",
    "            \"    parser.add_argument('--max_depth', type=int, default=3)\\n\",\n",
    "            # Model call\n",
    "            \"preprocessor\": None,\n",
    "            \"model_call\" : \"model = GradientBoostingRegressor(n_estimators=args.n_estimators,subsample=args.subsample,max_features=args.max_features,max_depth=args.max_depth)\\n\"\n",
    "        },\n",
    "        \"hyperparameters\": {\n",
    "            \"n_estimators\": CategoricalParameter([100, 200, 300]),\n",
    "            \"subsample\": ContinuousParameter(0.6, 1),\n",
    "            \"max_features\": CategoricalParameter([\"auto\", \"sqrt\", \"log2\"]),\n",
    "            \"max_depth\": IntegerParameter(1, 9),\n",
    "        },\n",
    "        \"include_cls_metadata\": False,\n",
    "    },\n",
    "    \"en\": {\n",
    "        \"script_output\": None,\n",
    "        \"insertions\": {\n",
    "            # Arguments\n",
    "            \"arguments\" : \n",
    "            \"parser.add_argument('--alpha', type=float, default=1.0)\\n\"+\n",
    "            \"    parser.add_argument('--l1_ratio', type=float, default=0.5)\\n\",\n",
    "            # Model call\n",
    "            \"preprocessor\": None,\n",
    "            \"model_call\" : \"model = ElasticNet(alpha=args.alpha,l1_ratio=args.l1_ratio)\\n\"\n",
    "        },\n",
    "        \"hyperparameters\": {\n",
    "            \"alpha\": CategoricalParameter([0.0001, 0.001, 0.01, 0.1, 0.5, 1]), # could also try ContinuousParameter(0.0001, 1)\n",
    "            \"l1_ratio\": ContinuousParameter(0, 1),\n",
    "        },\n",
    "        \"include_cls_metadata\": False,\n",
    "    },\n",
    " \n",
    "}\n",
    "\n",
    "pipelines = {}\n",
    "for model_name, model_spec in models.items():\n",
    "    pipelines[model_name] = {}\n",
    "    for preprocessor_name, preprocessor_spec in preprocessors.items():\n",
    "        model_dict_copy = model_spec.copy() # this is crucial to avoid modying the same information\n",
    "        pipeline_name = f\"{model_name}-{preprocessor_name}\"\n",
    "        \n",
    "        model_dict_copy[\"insertions\"][\"preprocessor\"] = preprocessor_spec\n",
    "        model_dict_copy[\"script_output\"] = f\"scripts/{model_name}/script-{pipeline_name}.py\"\n",
    "        \n",
    "        pipelines[model_name][pipeline_name] = model_dict_copy"
   ]
  },
  {
   "cell_type": "code",
   "execution_count": 13,
   "metadata": {
    "tags": []
   },
   "outputs": [],
   "source": [
    "#Create individual pipeline script files dynamically by using dictionary created previously\n",
    "\n",
    "for pipeline_family in pipelines.keys():\n",
    "    if not os.path.exists(f\"scripts/{pipeline_family}\"):\n",
    "        os.makedirs(f\"scripts/{pipeline_family}\")\n",
    "        \n",
    "for pipeline_family, pipelines_dict in pipelines.items():\n",
    "    for pipeline, pipeline_spec in pipelines_dict.items():\n",
    "        with open(pipeline_spec[\"script_output\"], \"w\") as new_file:\n",
    "            print(_script.format(pipeline_spec[\"insertions\"][\"arguments\"],pipeline_spec[\"insertions\"][\"preprocessor\"],pipeline_spec[\"insertions\"][\"model_call\"]), file=new_file)"
   ]
  },
  {
   "cell_type": "code",
   "execution_count": 14,
   "metadata": {
    "tags": []
   },
   "outputs": [],
   "source": [
    "# Create a base version of the class with default parameters for all estimators\n",
    "\n",
    "class SKLearnBase(SKLearn):\n",
    "    def __init__(\n",
    "        self, \n",
    "        entry_point=\".\", # intentionally left blank, will be overwritten in the next function\n",
    "        framework_version=\"1.2-1\",\n",
    "        role=sm_role,\n",
    "        instance_count=1,\n",
    "        instance_type=\"ml.m5.large\", # deliberately kept the instance small to reduce costs\n",
    "        hyperparameters={\n",
    "            \"features\": \"MedInc HouseAge AveRooms AveBedrms Population AveOccup Latitude Longitude\",\n",
    "            \"target\": \"MedHouseVal\",\n",
    "        },  \n",
    "        **kwargs,\n",
    "        ):\n",
    "        super(SKLearnBase, self).__init__(\n",
    "            entry_point=entry_point,\n",
    "            framework_version=framework_version,\n",
    "            role=role,\n",
    "            instance_count=instance_count,\n",
    "            instance_type=instance_type,\n",
    "            hyperparameters=hyperparameters,\n",
    "            **kwargs\n",
    "        )\n"
   ]
  },
  {
   "cell_type": "code",
   "execution_count": 15,
   "metadata": {
    "tags": []
   },
   "outputs": [],
   "source": [
    "estimators = {}\n",
    "for pipeline_family in pipelines.keys():\n",
    "    estimators[pipeline_family] = {}\n",
    "    scripts = os.listdir(f\"scripts/{pipeline_family}\")\n",
    "    for script in scripts:\n",
    "        if script.endswith(\".py\"):\n",
    "            estimator_name = script.split(\".\")[0].replace(\"_\", \"-\").replace(\"script\", \"estimator\")\n",
    "            estimators[pipeline_family][estimator_name] = SKLearnBase(\n",
    "                entry_point=f\"scripts/{pipeline_family}/{script}\",\n",
    "                base_job_name=estimator_name,\n",
    "            )"
   ]
  },
  {
   "cell_type": "code",
   "execution_count": 16,
   "metadata": {
    "tags": []
   },
   "outputs": [],
   "source": [
    "# Create a dataclass for out HyperparameterTunerArgs object to optimize passing in arguments\n",
    "# This is especially handy when the number of estimators and preprocessors is large\n",
    "\n",
    "@dataclass\n",
    "class HyperparameterTunerArgs:\n",
    "    base_job_names: list[str]\n",
    "    estimators: list[object]\n",
    "    inputs: dict[str]\n",
    "    objective_metric_name: str\n",
    "    hyperparameter_ranges: list[dict]\n",
    "    metric_definition: dict[str]\n",
    "    include_cls_metadata: list[bool]\n",
    "\n",
    "    def get_estimator_dict(self) -> dict:\n",
    "        return {k:v for (k, v) in zip(self.base_job_names, self.estimators)}\n",
    "\n",
    "    def get_inputs_dict(self) -> dict:\n",
    "        return {k:v for (k, v) in zip(self.base_job_names, [self.inputs]*len(self.base_job_names))}\n",
    "\n",
    "    def get_objective_metric_name_dict(self) -> dict:\n",
    "        return {k:v for (k, v) in zip(self.base_job_names, [self.objective_metric_name]*len(self.base_job_names))}\n",
    "\n",
    "    def get_hyperparameter_ranges_dict(self) -> dict:\n",
    "        return {k:v for (k, v) in zip(self.base_job_names, self.hyperparameter_ranges)}\n",
    "\n",
    "    def get_metric_definition_dict(self) -> dict:\n",
    "        return {k:[v] for (k, v) in zip(self.base_job_names, [self.metric_definition]*len(self.base_job_names))}\n",
    "\n",
    "    def get_include_cls_metadata_dict(self) -> dict:\n",
    "        return {k:v for (k, v) in zip(self.base_job_names, self.include_cls_metadata)}\n",
    "\n",
    "# Create the HyperparameterTunerArgs object\n",
    "\n",
    "hp_args = {}\n",
    "for estimator_family, estimators in estimators.items():\n",
    "    hp_args[estimator_family] = HyperparameterTunerArgs(\n",
    "        base_job_names=list(estimators.keys()),\n",
    "        estimators=list(estimators.values()),\n",
    "        inputs={\n",
    "            \"train\": TrainingInput(s3_data=s3_data_train.uri, input_mode=\"File\"), \n",
    "            \"test\": TrainingInput(s3_data=s3_data_test.uri, input_mode=\"File\")\n",
    "        },\n",
    "        objective_metric_name=\"RMSE\",\n",
    "        hyperparameter_ranges=[pipeline.get(\"hyperparameters\") for pipeline in pipelines[estimator_family].values()],\n",
    "        metric_definition={\"Name\": \"RMSE\", \"Regex\": \"RMSE: ([0-9.]+).*$\"},\n",
    "        include_cls_metadata=[pipeline.get(\"include_cls_metadata\") for pipeline in pipelines[estimator_family].values()],\n",
    "    )"
   ]
  },
  {
   "cell_type": "code",
   "execution_count": 17,
   "metadata": {
    "tags": []
   },
   "outputs": [],
   "source": [
    "# Create our AutoML Tuner for each estimator family\n",
    "\n",
    "STRATEGY = \"Bayesian\"\n",
    "OBJECTIVE_TYPE = \"Minimize\"\n",
    "MAX_JOBS = 100\n",
    "MAX_PARALLEL_JOBS = 10\n",
    "MAX_RUNTIME_IN_SECONDS = 3600\n",
    "EARLY_STOPPING_TYPE = \"Off\"\n",
    "RANDOM_SEED = 42\n",
    "TUNING_JOB_COMPLETION_CRITERIA_CONFIG = TuningJobCompletionCriteriaConfig(\n",
    "    max_number_of_training_jobs_not_improving=10,\n",
    "    )\n",
    "\n",
    "tuners = {}\n",
    "for estimator_family, hp in hp_args.items():\n",
    "    tuners[estimator_family] = HyperparameterTuner.create(\n",
    "        estimator_dict=hp.get_estimator_dict(),\n",
    "        objective_metric_name_dict=hp.get_objective_metric_name_dict(),\n",
    "        hyperparameter_ranges_dict=hp.get_hyperparameter_ranges_dict(),\n",
    "        metric_definitions_dict=hp.get_metric_definition_dict(),\n",
    "        strategy=STRATEGY,\n",
    "        completion_criteria_config=TUNING_JOB_COMPLETION_CRITERIA_CONFIG,\n",
    "        objective_type=OBJECTIVE_TYPE,\n",
    "        max_jobs=MAX_JOBS,\n",
    "        max_parallel_jobs=MAX_PARALLEL_JOBS,\n",
    "        max_runtime_in_seconds=MAX_RUNTIME_IN_SECONDS,\n",
    "        base_tuning_job_name=f\"custom-automl-{estimator_family}\",\n",
    "        early_stopping_type=EARLY_STOPPING_TYPE, # early stopping of training jobs is not currently supported when multiple training job definitions are used\n",
    "        random_seed=RANDOM_SEED,\n",
    "    )"
   ]
  },
  {
   "cell_type": "code",
   "execution_count": 18,
   "metadata": {
    "tags": []
   },
   "outputs": [
    {
     "name": "stdout",
     "output_type": "stream",
     "text": [
      "Using provided s3_resource\n",
      "Using provided s3_resource\n"
     ]
    },
    {
     "name": "stderr",
     "output_type": "stream",
     "text": [
      "No finished training job found associated with this estimator. Please make sure this estimator is only used for building workflow config\n"
     ]
    },
    {
     "name": "stdout",
     "output_type": "stream",
     "text": [
      "Using provided s3_resource\n",
      "Using provided s3_resource\n",
      "Using provided s3_resource\n"
     ]
    },
    {
     "name": "stderr",
     "output_type": "stream",
     "text": [
      "No finished training job found associated with this estimator. Please make sure this estimator is only used for building workflow config\n"
     ]
    },
    {
     "name": "stdout",
     "output_type": "stream",
     "text": [
      "Using provided s3_resource\n",
      "Using provided s3_resource\n",
      "Using provided s3_resource\n"
     ]
    },
    {
     "name": "stderr",
     "output_type": "stream",
     "text": [
      "No finished training job found associated with this estimator. Please make sure this estimator is only used for building workflow config\n"
     ]
    },
    {
     "name": "stdout",
     "output_type": "stream",
     "text": [
      "Using provided s3_resource\n"
     ]
    }
   ],
   "source": [
    "# We can only submit and HPO job with a maximum of 10 jobs definitions attached to it. Therefore, we will submit a separate HPO per each model definition. Afterwards we will collect and aggregate the results from individual HPO jobs for analysis\n",
    "\n",
    "for tuner, hpo in zip(tuners.values(), hp_args.values()):\n",
    "    tuner.fit(\n",
    "        inputs=hpo.get_inputs_dict(),\n",
    "        include_cls_metadata=hpo.get_include_cls_metadata_dict(),\n",
    "        wait=False,\n",
    "        )"
   ]
  },
  {
   "cell_type": "markdown",
   "metadata": {},
   "source": [
    "## Analysing Results"
   ]
  },
  {
   "cell_type": "code",
   "execution_count": 19,
   "metadata": {
    "tags": []
   },
   "outputs": [
    {
     "name": "stdout",
     "output_type": "stream",
     "text": [
      "Waiting for all jobs to complete...\n",
      "Waiting for all jobs to complete...\n",
      "Waiting for all jobs to complete...\n",
      "Waiting for all jobs to complete...\n",
      "Waiting for all jobs to complete...\n",
      "Waiting for all jobs to complete...\n",
      "Waiting for all jobs to complete...\n",
      "Waiting for all jobs to complete...\n",
      "Waiting for all jobs to complete...\n",
      "Waiting for all jobs to complete...\n",
      "Waiting for all jobs to complete...\n",
      "Waiting for all jobs to complete...\n",
      "Waiting for all jobs to complete...\n",
      "Waiting for all jobs to complete...\n"
     ]
    }
   ],
   "source": [
    "def get_tuning_job_names(max_results):\n",
    "    response = sm_client.list_hyper_parameter_tuning_jobs(\n",
    "        MaxResults=max_results,\n",
    "        SortBy=\"CreationTime\",\n",
    "        SortOrder=\"Descending\",\n",
    "        NameContains=\"custom-automl\"\n",
    "    )\n",
    "    return [job.get(\"HyperParameterTuningJobName\") for job in response[\"HyperParameterTuningJobSummaries\"]]\n",
    "\n",
    "def get_tuning_job_status(job_name):\n",
    "    job_status = sm_client.describe_hyper_parameter_tuning_job(\n",
    "        HyperParameterTuningJobName=job_name\n",
    "    )\n",
    "    return job_status['HyperParameterTuningJobStatus']\n",
    "\n",
    "# Collect the results from the AutoML Tuner into a data frame\n",
    "def collect_results():\n",
    "    results = []\n",
    "    for job in tuners.values():\n",
    "        results.append(job.analytics().dataframe())\n",
    "    return pd.DataFrame(pd.concat(results))\n",
    "\n",
    "job_names = get_tuning_job_names(len(tuners))\n",
    "job_statuses = [get_tuning_job_status(job_name) for job_name in job_names]\n",
    "while all(status == \"Completed\" for status in job_statuses) is False:\n",
    "    print(\"Waiting for all jobs to complete...\")\n",
    "    time.sleep(30)\n",
    "    job_statuses = [get_tuning_job_status(job_name) for job_name in get_tuning_job_names(len(tuners))]\n",
    "\n",
    "df_tuner_results = collect_results()\n",
    "df_tuner_results[\"TrainingJobFamily\"] = df_tuner_results[\"TrainingJobDefinitionName\"].str.split(\"-\", expand=True)[1]\n",
    "\n",
    "cols_all = df_tuner_results.columns.tolist()\n",
    "cols_prio = [\"TrainingJobName\", \"TrainingJobStatus\", \"FinalObjectiveValue\", \"TrainingStartTime\", \"TrainingEndTime\", \"TrainingElapsedTimeSeconds\", \"TrainingJobFamily\", \"TrainingJobDefinitionName\"]\n",
    "cols_other = list(set(cols_all).difference(set(cols_prio)))\n",
    "\n",
    "# Reorder columns in the final df for better readibility\n",
    "df_tuner_results = df_tuner_results.sort_values(by=\"TrainingStartTime\", ascending=True)[cols_prio + cols_other]\n",
    "df_tuner_results.reset_index(drop=True, inplace=True)"
   ]
  },
  {
   "cell_type": "code",
   "execution_count": 20,
   "metadata": {
    "tags": []
   },
   "outputs": [
    {
     "data": {
      "text/html": [
       "<div>\n",
       "<style scoped>\n",
       "    .dataframe tbody tr th:only-of-type {\n",
       "        vertical-align: middle;\n",
       "    }\n",
       "\n",
       "    .dataframe tbody tr th {\n",
       "        vertical-align: top;\n",
       "    }\n",
       "\n",
       "    .dataframe thead th {\n",
       "        text-align: right;\n",
       "    }\n",
       "</style>\n",
       "<table border=\"1\" class=\"dataframe\">\n",
       "  <thead>\n",
       "    <tr style=\"text-align: right;\">\n",
       "      <th></th>\n",
       "      <th>TrainingJobName</th>\n",
       "      <th>TrainingJobStatus</th>\n",
       "      <th>FinalObjectiveValue</th>\n",
       "      <th>TrainingStartTime</th>\n",
       "      <th>TrainingEndTime</th>\n",
       "      <th>TrainingElapsedTimeSeconds</th>\n",
       "      <th>TrainingJobFamily</th>\n",
       "      <th>TrainingJobDefinitionName</th>\n",
       "      <th>n_estimators</th>\n",
       "      <th>max_features</th>\n",
       "      <th>min_samples_leaf</th>\n",
       "      <th>subsample</th>\n",
       "      <th>alpha</th>\n",
       "      <th>l1_ratio</th>\n",
       "      <th>max_depth</th>\n",
       "    </tr>\n",
       "  </thead>\n",
       "  <tbody>\n",
       "    <tr>\n",
       "      <th>0</th>\n",
       "      <td>custom-automl-rf-230918-1911-001-90214ab1</td>\n",
       "      <td>Completed</td>\n",
       "      <td>0.740400</td>\n",
       "      <td>2023-09-18 19:12:45+00:00</td>\n",
       "      <td>2023-09-18 19:15:17+00:00</td>\n",
       "      <td>152.0</td>\n",
       "      <td>rf</td>\n",
       "      <td>estimator-rf-mean-imp-scale-pca</td>\n",
       "      <td>640.0</td>\n",
       "      <td>\"auto\"</td>\n",
       "      <td>3.0</td>\n",
       "      <td>NaN</td>\n",
       "      <td>NaN</td>\n",
       "      <td>NaN</td>\n",
       "      <td>NaN</td>\n",
       "    </tr>\n",
       "    <tr>\n",
       "      <th>1</th>\n",
       "      <td>custom-automl-gb-230918-1911-001-6891f291</td>\n",
       "      <td>Completed</td>\n",
       "      <td>0.763997</td>\n",
       "      <td>2023-09-18 19:12:53+00:00</td>\n",
       "      <td>2023-09-18 19:14:40+00:00</td>\n",
       "      <td>107.0</td>\n",
       "      <td>gb</td>\n",
       "      <td>estimator-gb-mean-imp-scale-pca</td>\n",
       "      <td>\"200\"</td>\n",
       "      <td>\"auto\"</td>\n",
       "      <td>NaN</td>\n",
       "      <td>0.781880</td>\n",
       "      <td>NaN</td>\n",
       "      <td>NaN</td>\n",
       "      <td>3.0</td>\n",
       "    </tr>\n",
       "    <tr>\n",
       "      <th>2</th>\n",
       "      <td>custom-automl-gb-230918-1911-002-a43aa2e8</td>\n",
       "      <td>Completed</td>\n",
       "      <td>0.763117</td>\n",
       "      <td>2023-09-18 19:12:56+00:00</td>\n",
       "      <td>2023-09-18 19:14:43+00:00</td>\n",
       "      <td>107.0</td>\n",
       "      <td>gb</td>\n",
       "      <td>estimator-gb-mean-imp</td>\n",
       "      <td>\"200\"</td>\n",
       "      <td>\"auto\"</td>\n",
       "      <td>NaN</td>\n",
       "      <td>0.781880</td>\n",
       "      <td>NaN</td>\n",
       "      <td>NaN</td>\n",
       "      <td>3.0</td>\n",
       "    </tr>\n",
       "    <tr>\n",
       "      <th>3</th>\n",
       "      <td>custom-automl-rf-230918-1911-002-8bc16bf9</td>\n",
       "      <td>Completed</td>\n",
       "      <td>0.739867</td>\n",
       "      <td>2023-09-18 19:12:57+00:00</td>\n",
       "      <td>2023-09-18 19:15:04+00:00</td>\n",
       "      <td>127.0</td>\n",
       "      <td>rf</td>\n",
       "      <td>estimator-rf-mean-imp-scale-pca</td>\n",
       "      <td>331.0</td>\n",
       "      <td>\"auto\"</td>\n",
       "      <td>6.0</td>\n",
       "      <td>NaN</td>\n",
       "      <td>NaN</td>\n",
       "      <td>NaN</td>\n",
       "      <td>NaN</td>\n",
       "    </tr>\n",
       "    <tr>\n",
       "      <th>4</th>\n",
       "      <td>custom-automl-en-230918-1911-002-6e726a8a</td>\n",
       "      <td>Completed</td>\n",
       "      <td>0.861878</td>\n",
       "      <td>2023-09-18 19:12:58+00:00</td>\n",
       "      <td>2023-09-18 19:14:45+00:00</td>\n",
       "      <td>107.0</td>\n",
       "      <td>en</td>\n",
       "      <td>estimator-en-mean-imp</td>\n",
       "      <td>NaN</td>\n",
       "      <td>NaN</td>\n",
       "      <td>NaN</td>\n",
       "      <td>NaN</td>\n",
       "      <td>\"0.01\"</td>\n",
       "      <td>0.454701</td>\n",
       "      <td>NaN</td>\n",
       "    </tr>\n",
       "    <tr>\n",
       "      <th>...</th>\n",
       "      <td>...</td>\n",
       "      <td>...</td>\n",
       "      <td>...</td>\n",
       "      <td>...</td>\n",
       "      <td>...</td>\n",
       "      <td>...</td>\n",
       "      <td>...</td>\n",
       "      <td>...</td>\n",
       "      <td>...</td>\n",
       "      <td>...</td>\n",
       "      <td>...</td>\n",
       "      <td>...</td>\n",
       "      <td>...</td>\n",
       "      <td>...</td>\n",
       "      <td>...</td>\n",
       "    </tr>\n",
       "    <tr>\n",
       "      <th>68</th>\n",
       "      <td>custom-automl-rf-230918-1911-027-7445c6cd</td>\n",
       "      <td>Stopped</td>\n",
       "      <td>NaN</td>\n",
       "      <td>2023-09-18 19:17:42+00:00</td>\n",
       "      <td>2023-09-18 19:17:58+00:00</td>\n",
       "      <td>16.0</td>\n",
       "      <td>rf</td>\n",
       "      <td>estimator-rf-mean-imp-scale-pca</td>\n",
       "      <td>593.0</td>\n",
       "      <td>\"log2\"</td>\n",
       "      <td>3.0</td>\n",
       "      <td>NaN</td>\n",
       "      <td>NaN</td>\n",
       "      <td>NaN</td>\n",
       "      <td>NaN</td>\n",
       "    </tr>\n",
       "    <tr>\n",
       "      <th>69</th>\n",
       "      <td>custom-automl-rf-230918-1911-024-b0c1bd88</td>\n",
       "      <td>Stopped</td>\n",
       "      <td>NaN</td>\n",
       "      <td>2023-09-18 19:17:52+00:00</td>\n",
       "      <td>2023-09-18 19:18:03+00:00</td>\n",
       "      <td>11.0</td>\n",
       "      <td>rf</td>\n",
       "      <td>estimator-rf-mean-imp-scale-pca</td>\n",
       "      <td>816.0</td>\n",
       "      <td>\"log2\"</td>\n",
       "      <td>6.0</td>\n",
       "      <td>NaN</td>\n",
       "      <td>NaN</td>\n",
       "      <td>NaN</td>\n",
       "      <td>NaN</td>\n",
       "    </tr>\n",
       "    <tr>\n",
       "      <th>70</th>\n",
       "      <td>custom-automl-rf-230918-1911-028-f6555e09</td>\n",
       "      <td>Stopped</td>\n",
       "      <td>NaN</td>\n",
       "      <td>2023-09-18 19:17:56+00:00</td>\n",
       "      <td>2023-09-18 19:17:56+00:00</td>\n",
       "      <td>0.0</td>\n",
       "      <td>rf</td>\n",
       "      <td>estimator-rf-mean-imp-scale-pca</td>\n",
       "      <td>892.0</td>\n",
       "      <td>\"log2\"</td>\n",
       "      <td>3.0</td>\n",
       "      <td>NaN</td>\n",
       "      <td>NaN</td>\n",
       "      <td>NaN</td>\n",
       "      <td>NaN</td>\n",
       "    </tr>\n",
       "    <tr>\n",
       "      <th>71</th>\n",
       "      <td>custom-automl-gb-230918-1911-024-64b8e170</td>\n",
       "      <td>Stopped</td>\n",
       "      <td>NaN</td>\n",
       "      <td>NaT</td>\n",
       "      <td>2023-09-18 19:16:47+00:00</td>\n",
       "      <td>NaN</td>\n",
       "      <td>gb</td>\n",
       "      <td>estimator-gb-mean-imp-scale-pca</td>\n",
       "      <td>\"300\"</td>\n",
       "      <td>\"sqrt\"</td>\n",
       "      <td>NaN</td>\n",
       "      <td>0.999015</td>\n",
       "      <td>NaN</td>\n",
       "      <td>NaN</td>\n",
       "      <td>5.0</td>\n",
       "    </tr>\n",
       "    <tr>\n",
       "      <th>72</th>\n",
       "      <td>custom-automl-en-230918-1911-021-a6472b04</td>\n",
       "      <td>Stopped</td>\n",
       "      <td>NaN</td>\n",
       "      <td>NaT</td>\n",
       "      <td>2023-09-18 19:16:04+00:00</td>\n",
       "      <td>NaN</td>\n",
       "      <td>en</td>\n",
       "      <td>estimator-en-mean-imp</td>\n",
       "      <td>NaN</td>\n",
       "      <td>NaN</td>\n",
       "      <td>NaN</td>\n",
       "      <td>NaN</td>\n",
       "      <td>\"0.001\"</td>\n",
       "      <td>0.592225</td>\n",
       "      <td>NaN</td>\n",
       "    </tr>\n",
       "  </tbody>\n",
       "</table>\n",
       "<p>73 rows × 15 columns</p>\n",
       "</div>"
      ],
      "text/plain": [
       "                              TrainingJobName TrainingJobStatus  \\\n",
       "0   custom-automl-rf-230918-1911-001-90214ab1         Completed   \n",
       "1   custom-automl-gb-230918-1911-001-6891f291         Completed   \n",
       "2   custom-automl-gb-230918-1911-002-a43aa2e8         Completed   \n",
       "3   custom-automl-rf-230918-1911-002-8bc16bf9         Completed   \n",
       "4   custom-automl-en-230918-1911-002-6e726a8a         Completed   \n",
       "..                                        ...               ...   \n",
       "68  custom-automl-rf-230918-1911-027-7445c6cd           Stopped   \n",
       "69  custom-automl-rf-230918-1911-024-b0c1bd88           Stopped   \n",
       "70  custom-automl-rf-230918-1911-028-f6555e09           Stopped   \n",
       "71  custom-automl-gb-230918-1911-024-64b8e170           Stopped   \n",
       "72  custom-automl-en-230918-1911-021-a6472b04           Stopped   \n",
       "\n",
       "    FinalObjectiveValue         TrainingStartTime           TrainingEndTime  \\\n",
       "0              0.740400 2023-09-18 19:12:45+00:00 2023-09-18 19:15:17+00:00   \n",
       "1              0.763997 2023-09-18 19:12:53+00:00 2023-09-18 19:14:40+00:00   \n",
       "2              0.763117 2023-09-18 19:12:56+00:00 2023-09-18 19:14:43+00:00   \n",
       "3              0.739867 2023-09-18 19:12:57+00:00 2023-09-18 19:15:04+00:00   \n",
       "4              0.861878 2023-09-18 19:12:58+00:00 2023-09-18 19:14:45+00:00   \n",
       "..                  ...                       ...                       ...   \n",
       "68                  NaN 2023-09-18 19:17:42+00:00 2023-09-18 19:17:58+00:00   \n",
       "69                  NaN 2023-09-18 19:17:52+00:00 2023-09-18 19:18:03+00:00   \n",
       "70                  NaN 2023-09-18 19:17:56+00:00 2023-09-18 19:17:56+00:00   \n",
       "71                  NaN                       NaT 2023-09-18 19:16:47+00:00   \n",
       "72                  NaN                       NaT 2023-09-18 19:16:04+00:00   \n",
       "\n",
       "    TrainingElapsedTimeSeconds TrainingJobFamily  \\\n",
       "0                        152.0                rf   \n",
       "1                        107.0                gb   \n",
       "2                        107.0                gb   \n",
       "3                        127.0                rf   \n",
       "4                        107.0                en   \n",
       "..                         ...               ...   \n",
       "68                        16.0                rf   \n",
       "69                        11.0                rf   \n",
       "70                         0.0                rf   \n",
       "71                         NaN                gb   \n",
       "72                         NaN                en   \n",
       "\n",
       "          TrainingJobDefinitionName n_estimators max_features  \\\n",
       "0   estimator-rf-mean-imp-scale-pca        640.0       \"auto\"   \n",
       "1   estimator-gb-mean-imp-scale-pca        \"200\"       \"auto\"   \n",
       "2             estimator-gb-mean-imp        \"200\"       \"auto\"   \n",
       "3   estimator-rf-mean-imp-scale-pca        331.0       \"auto\"   \n",
       "4             estimator-en-mean-imp          NaN          NaN   \n",
       "..                              ...          ...          ...   \n",
       "68  estimator-rf-mean-imp-scale-pca        593.0       \"log2\"   \n",
       "69  estimator-rf-mean-imp-scale-pca        816.0       \"log2\"   \n",
       "70  estimator-rf-mean-imp-scale-pca        892.0       \"log2\"   \n",
       "71  estimator-gb-mean-imp-scale-pca        \"300\"       \"sqrt\"   \n",
       "72            estimator-en-mean-imp          NaN          NaN   \n",
       "\n",
       "    min_samples_leaf  subsample    alpha  l1_ratio  max_depth  \n",
       "0                3.0        NaN      NaN       NaN        NaN  \n",
       "1                NaN   0.781880      NaN       NaN        3.0  \n",
       "2                NaN   0.781880      NaN       NaN        3.0  \n",
       "3                6.0        NaN      NaN       NaN        NaN  \n",
       "4                NaN        NaN   \"0.01\"  0.454701        NaN  \n",
       "..               ...        ...      ...       ...        ...  \n",
       "68               3.0        NaN      NaN       NaN        NaN  \n",
       "69               6.0        NaN      NaN       NaN        NaN  \n",
       "70               3.0        NaN      NaN       NaN        NaN  \n",
       "71               NaN   0.999015      NaN       NaN        5.0  \n",
       "72               NaN        NaN  \"0.001\"  0.592225        NaN  \n",
       "\n",
       "[73 rows x 15 columns]"
      ]
     },
     "execution_count": 20,
     "metadata": {},
     "output_type": "execute_result"
    }
   ],
   "source": [
    "df_tuner_results"
   ]
  },
  {
   "cell_type": "markdown",
   "metadata": {},
   "source": [
    "#### Final Objective Value Change"
   ]
  },
  {
   "cell_type": "code",
   "execution_count": 21,
   "metadata": {
    "tags": []
   },
   "outputs": [
    {
     "name": "stderr",
     "output_type": "stream",
     "text": [
      "/tmp/ipykernel_9911/2068361418.py:2: UserWarning: FixedFormatter should only be used together with FixedLocator\n",
      "  ax.set_xticklabels(ax.get_xticklabels(), rotation=45)\n"
     ]
    },
    {
     "data": {
      "image/png": "[encoded data removed]",
      "text/plain": [
       "<Figure size 640x480 with 1 Axes>"
      ]
     },
     "metadata": {},
     "output_type": "display_data"
    }
   ],
   "source": [
    "ax = sns.lineplot(data=df_tuner_results, x=\"TrainingStartTime\", y=\"FinalObjectiveValue\", hue=\"TrainingJobFamily\")\n",
    "ax.set_xticklabels(ax.get_xticklabels(), rotation=45)\n",
    "plt.show()"
   ]
  },
  {
   "cell_type": "code",
   "execution_count": 22,
   "metadata": {
    "tags": []
   },
   "outputs": [
    {
     "data": {
      "text/plain": [
       "<Axes: xlabel='l1_ratio', ylabel='alpha'>"
      ]
     },
     "execution_count": 22,
     "metadata": {},
     "output_type": "execute_result"
    },
    {
     "data": {
      "image/png": "[encoded data removed]",
      "text/plain": [
       "<Figure size 640x480 with 1 Axes>"
      ]
     },
     "metadata": {},
     "output_type": "display_data"
    }
   ],
   "source": [
    "df_tuner_results.loc[df_tuner_results[\"TrainingJobFamily\"] == \"en\", [\"l1_ratio\", \"alpha\"]].plot.scatter(\"l1_ratio\", \"alpha\")"
   ]
  },
  {
   "cell_type": "markdown",
   "metadata": {},
   "source": [
    "## Select Best Model"
   ]
  },
  {
   "cell_type": "code",
   "execution_count": 23,
   "metadata": {
    "tags": []
   },
   "outputs": [],
   "source": [
    "df_best_job = df_tuner_results.loc[df_tuner_results[\"FinalObjectiveValue\"] == df_tuner_results[\"FinalObjectiveValue\"].min()]\n",
    "df_best_job\n",
    "BEST_MODEL_FAMILY = df_best_job[\"TrainingJobFamily\"].values[0]"
   ]
  },
  {
   "cell_type": "code",
   "execution_count": 24,
   "metadata": {
    "tags": []
   },
   "outputs": [
    {
     "data": {
      "text/plain": [
       "'custom-automl-rf-230918-1911-008-40606d3b'"
      ]
     },
     "execution_count": 24,
     "metadata": {},
     "output_type": "execute_result"
    }
   ],
   "source": [
    "tuners.get(BEST_MODEL_FAMILY).best_training_job()"
   ]
  },
  {
   "cell_type": "code",
   "execution_count": 23,
   "metadata": {
    "tags": []
   },
   "outputs": [
    {
     "name": "stdout",
     "output_type": "stream",
     "text": [
      "\n",
      "2023-09-18 17:49:29 Starting - Preparing the instances for training\n",
      "2023-09-18 17:49:29 Downloading - Downloading input data\n",
      "2023-09-18 17:49:29 Training - Training image download completed. Training in progress.\n",
      "2023-09-18 17:49:29 Uploading - Uploading generated training model\n",
      "2023-09-18 17:49:29 Completed - Resource reused by training job: custom-automl-rf-230918-1745-015-a7998861\n"
     ]
    },
    {
     "data": {
      "text/plain": [
       "<__main__.SKLearnBase at 0x7f6e1cce5480>"
      ]
     },
     "execution_count": 23,
     "metadata": {},
     "output_type": "execute_result"
    }
   ],
   "source": [
    "tuners.get(BEST_MODEL_FAMILY).best_estimator()"
   ]
  },
  {
   "cell_type": "markdown",
   "metadata": {},
   "source": [
    "## Deploy Best Model"
   ]
  },
  {
   "cell_type": "code",
   "execution_count": null,
   "metadata": {},
   "outputs": [],
   "source": [
    "predictor = tuners.get(BEST_MODEL_FAMILY).deploy(\n",
    "    initial_instance_count=1,\n",
    "    instance_type=\"ml.c4.large\",\n",
    "    endpoint_name=f\"custom-automl-endpoint-{BEST_MODEL_FAMILY}\",\n",
    ")"
   ]
  },
  {
   "cell_type": "markdown",
   "metadata": {
    "tags": []
   },
   "source": [
    "## Cleanup"
   ]
  },
  {
   "cell_type": "code",
   "execution_count": null,
   "metadata": {},
   "outputs": [],
   "source": [
    "# NOTE: Don't forget to delete the endpoint afterwards\n",
    "sm_client.delete_endpoint(EndpointName=predictor.endpoint)"
   ]
  }
 ],
 "metadata": {
  "kernelspec": {
   "display_name": "conda_python3",
   "language": "python",
   "name": "conda_python3"
  },
  "language_info": {
   "codemirror_mode": {
    "name": "ipython",
    "version": 3
   },
   "file_extension": ".py",
   "mimetype": "text/x-python",
   "name": "python",
   "nbconvert_exporter": "python",
   "pygments_lexer": "ipython3",
   "version": "3.10.12"
  }
 },
 "nbformat": 4,
 "nbformat_minor": 4
}
